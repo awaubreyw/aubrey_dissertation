{
 "cells": [
  {
   "cell_type": "code",
   "execution_count": 1,
   "metadata": {},
   "outputs": [],
   "source": [
    "# CREDITS\n",
    "#https://www.youtube.com/watch?v=7azmUg6XZA0 Open Source Student vaderSentiment and pandas video\n",
    "#https://www.youtube.com/playlist?list=PL-osiE80TeTsWmV9i9c58mdDCSskIFdDS Corey Schafer pandas playlist videos\n",
    "#https://neptune.ai/blog/sentiment-analysis-python-textblob-vs-vader-vs-flair\n",
    "\n",
    "# CITE \n",
    "#Hutto, C.J. & Gilbert, E.E. (2014). VADER: A Parsimonious Rule-based Model for Sentiment Analysis of Social Media Text. Eighth International Conference on Weblogs and Social Media (ICWSM-14). Ann Arbor, MI, June 2014.\n",
    "\n",
    "from vaderSentiment.vaderSentiment import SentimentIntensityAnalyzer\n",
    "import json\n",
    "import pandas as pd"
   ]
  },
  {
   "cell_type": "code",
   "execution_count": 2,
   "metadata": {},
   "outputs": [],
   "source": [
    "#with open('results/khanacademy/_b-2rZpX5z4.json', 'r') as f:\n",
    "    #df = json.load(f)\n",
    "\n",
    "#COMPARE BETWEEN 2 VIDEOS TO START OFF THE SENTIMENT ANALYSIS MODEL  \n",
    "df1 = pd.read_json('results/crashcourse/_O2sg-PGhEg.json')\n",
    "\n",
    "df2 = pd.read_json('results/crashcourse/_tULRch1PRQ.json')\n",
    "\n",
    "#AUTOMATE\n",
    "#for video_id in video_ids_crashcourse.json:\n",
    "#   df = pd.read_json(f'results/crashcourse/{video_id}.json')\n",
    "#   if some json files with those video_ids do not exist, continue to the next (eg. 492 files in crashcourse folder instead of 1,439 videos on crashcourse youtube channel)"
   ]
  },
  {
   "cell_type": "code",
   "execution_count": 5,
   "metadata": {},
   "outputs": [
    {
     "data": {
      "text/html": [
       "<div>\n",
       "<style scoped>\n",
       "    .dataframe tbody tr th:only-of-type {\n",
       "        vertical-align: middle;\n",
       "    }\n",
       "\n",
       "    .dataframe tbody tr th {\n",
       "        vertical-align: top;\n",
       "    }\n",
       "\n",
       "    .dataframe thead th {\n",
       "        text-align: right;\n",
       "    }\n",
       "</style>\n",
       "<table border=\"1\" class=\"dataframe\">\n",
       "  <thead>\n",
       "    <tr style=\"text-align: right;\">\n",
       "      <th></th>\n",
       "      <th>comment_by</th>\n",
       "      <th>comment_text</th>\n",
       "      <th>comment_date</th>\n",
       "      <th>likes_count</th>\n",
       "    </tr>\n",
       "  </thead>\n",
       "  <tbody>\n",
       "    <tr>\n",
       "      <th>0</th>\n",
       "      <td>sam JD</td>\n",
       "      <td>awesome host.. thank u so much</td>\n",
       "      <td>2022-07-14T09:38:00Z</td>\n",
       "      <td>1</td>\n",
       "    </tr>\n",
       "    <tr>\n",
       "      <th>1</th>\n",
       "      <td>Franzi Z</td>\n",
       "      <td>I love this series more with every episode I w...</td>\n",
       "      <td>2020-06-18T17:26:03Z</td>\n",
       "      <td>4</td>\n",
       "    </tr>\n",
       "    <tr>\n",
       "      <th>2</th>\n",
       "      <td>Wade Allen</td>\n",
       "      <td>When I see images or renderings of super clust...</td>\n",
       "      <td>2020-06-17T17:46:52Z</td>\n",
       "      <td>0</td>\n",
       "    </tr>\n",
       "    <tr>\n",
       "      <th>3</th>\n",
       "      <td>Susurrus</td>\n",
       "      <td>It&amp;#39;s kinda like a video game where you try...</td>\n",
       "      <td>2020-06-10T12:41:45Z</td>\n",
       "      <td>1</td>\n",
       "    </tr>\n",
       "    <tr>\n",
       "      <th>4</th>\n",
       "      <td>Eugene Scott</td>\n",
       "      <td>Can someone shed some light on why a super mas...</td>\n",
       "      <td>2020-06-06T00:10:48Z</td>\n",
       "      <td>0</td>\n",
       "    </tr>\n",
       "  </tbody>\n",
       "</table>\n",
       "</div>"
      ],
      "text/plain": [
       "     comment_by                                       comment_text  \\\n",
       "0        sam JD                     awesome host.. thank u so much   \n",
       "1      Franzi Z  I love this series more with every episode I w...   \n",
       "2    Wade Allen  When I see images or renderings of super clust...   \n",
       "3      Susurrus  It&#39;s kinda like a video game where you try...   \n",
       "4  Eugene Scott  Can someone shed some light on why a super mas...   \n",
       "\n",
       "           comment_date  likes_count  \n",
       "0  2022-07-14T09:38:00Z            1  \n",
       "1  2020-06-18T17:26:03Z            4  \n",
       "2  2020-06-17T17:46:52Z            0  \n",
       "3  2020-06-10T12:41:45Z            1  \n",
       "4  2020-06-06T00:10:48Z            0  "
      ]
     },
     "execution_count": 5,
     "metadata": {},
     "output_type": "execute_result"
    }
   ],
   "source": [
    "df1.head()"
   ]
  },
  {
   "cell_type": "code",
   "execution_count": 7,
   "metadata": {},
   "outputs": [
    {
     "data": {
      "text/html": [
       "<div>\n",
       "<style scoped>\n",
       "    .dataframe tbody tr th:only-of-type {\n",
       "        vertical-align: middle;\n",
       "    }\n",
       "\n",
       "    .dataframe tbody tr th {\n",
       "        vertical-align: top;\n",
       "    }\n",
       "\n",
       "    .dataframe thead th {\n",
       "        text-align: right;\n",
       "    }\n",
       "</style>\n",
       "<table border=\"1\" class=\"dataframe\">\n",
       "  <thead>\n",
       "    <tr style=\"text-align: right;\">\n",
       "      <th></th>\n",
       "      <th>comment_by</th>\n",
       "      <th>comment_text</th>\n",
       "      <th>comment_date</th>\n",
       "      <th>likes_count</th>\n",
       "    </tr>\n",
       "  </thead>\n",
       "  <tbody>\n",
       "    <tr>\n",
       "      <th>0</th>\n",
       "      <td>Rich Invents</td>\n",
       "      <td>Excellent video, very informative.  ONE sugges...</td>\n",
       "      <td>2022-08-15T14:58:30Z</td>\n",
       "      <td>0</td>\n",
       "    </tr>\n",
       "    <tr>\n",
       "      <th>1</th>\n",
       "      <td>F Wily</td>\n",
       "      <td>Talk faster, you are too slow. I only have a 3...</td>\n",
       "      <td>2020-05-16T14:55:28Z</td>\n",
       "      <td>4</td>\n",
       "    </tr>\n",
       "    <tr>\n",
       "      <th>2</th>\n",
       "      <td>Sedat Ayyıldız</td>\n",
       "      <td>I like your academic and scientific jokes :))</td>\n",
       "      <td>2020-05-06T10:26:24Z</td>\n",
       "      <td>1</td>\n",
       "    </tr>\n",
       "    <tr>\n",
       "      <th>3</th>\n",
       "      <td>Eva Lynn</td>\n",
       "      <td>This mans hilarious</td>\n",
       "      <td>2020-04-28T09:52:08Z</td>\n",
       "      <td>0</td>\n",
       "    </tr>\n",
       "    <tr>\n",
       "      <th>4</th>\n",
       "      <td>Timothy Little</td>\n",
       "      <td>The best way to rob a bank is to own one</td>\n",
       "      <td>2020-04-09T07:37:44Z</td>\n",
       "      <td>1</td>\n",
       "    </tr>\n",
       "  </tbody>\n",
       "</table>\n",
       "</div>"
      ],
      "text/plain": [
       "       comment_by                                       comment_text  \\\n",
       "0    Rich Invents  Excellent video, very informative.  ONE sugges...   \n",
       "1          F Wily  Talk faster, you are too slow. I only have a 3...   \n",
       "2  Sedat Ayyıldız      I like your academic and scientific jokes :))   \n",
       "3        Eva Lynn                                This mans hilarious   \n",
       "4  Timothy Little           The best way to rob a bank is to own one   \n",
       "\n",
       "           comment_date  likes_count  \n",
       "0  2022-08-15T14:58:30Z            0  \n",
       "1  2020-05-16T14:55:28Z            4  \n",
       "2  2020-05-06T10:26:24Z            1  \n",
       "3  2020-04-28T09:52:08Z            0  \n",
       "4  2020-04-09T07:37:44Z            1  "
      ]
     },
     "execution_count": 7,
     "metadata": {},
     "output_type": "execute_result"
    }
   ],
   "source": [
    "df2.head()"
   ]
  },
  {
   "cell_type": "code",
   "execution_count": 3,
   "metadata": {},
   "outputs": [],
   "source": [
    "# CITE \n",
    "#Hutto, C.J. & Gilbert, E.E. (2014). VADER: A Parsimonious Rule-based Model for Sentiment Analysis of Social Media Text. Eighth International Conference on Weblogs and Social Media (ICWSM-14). Ann Arbor, MI, June 2014.\n",
    "\n",
    "analyzer = SentimentIntensityAnalyzer()\n",
    "positive1 = []\n",
    "negative1 = []\n",
    "neutral1 = []\n",
    "compound1 = []\n",
    "sentiment1 = []\n",
    "\n",
    "positive2 = []\n",
    "negative2 = []\n",
    "neutral2 = []\n",
    "compound2 = []\n",
    "sentiment2 = []"
   ]
  },
  {
   "cell_type": "code",
   "execution_count": 4,
   "metadata": {},
   "outputs": [],
   "source": [
    "#for line in df['Comment']:\n",
    "for line in range(df1.shape[0]): \n",
    "#range() method returns total number or length or indexes of 2d array data's rows [0] or data's columns [1]\n",
    "#use df.shape[0] to only loop through rows while shape[1] gives columns\n",
    "\n",
    "    comments = df1.iloc[line, 1] #iloc returns the value of looped lines/rows of the first[1] column 'Comment' key index\n",
    "    #print(comments)\n",
    "    comments_analyzed = analyzer.polarity_scores(comments)\n",
    "    #print(comments_analyzed)\n",
    "    #print(\"{:-<65} {}\".format(comments, str(comments_analyzed)))\n",
    "    \n",
    "    if comments_analyzed[\"compound\"] >= 0.05:\n",
    "        sentiment = 'positive'\n",
    "    elif comments_analyzed[\"compound\"] <= -0.05:\n",
    "        sentiment = 'negative'\n",
    "    else:\n",
    "        sentiment = 'neutral'\n",
    "    \n",
    "    #if comments_analyzed[\"compound\"] >= 0:\n",
    "        #sentiment = 'positive'\n",
    "    #else:\n",
    "        #sentiment = 'negative'\n",
    "\n",
    "#RUN ONCE\n",
    "    negative1.append(comments_analyzed[\"neg\"])\n",
    "    #negative += comments_analyzed[\"neg\"] is not suitable for this\n",
    "\n",
    "    positive1.append(comments_analyzed[\"pos\"])\n",
    "    #print(positive)\n",
    "\n",
    "    neutral1.append(comments_analyzed[\"neu\"])\n",
    "    #print(neutral)\n",
    "\n",
    "    compound1.append(comments_analyzed[\"compound\"])\n",
    "    #print(compound)\n",
    "\n",
    "    sentiment1.append(sentiment)\n",
    "\n",
    "     "
   ]
  },
  {
   "cell_type": "code",
   "execution_count": 5,
   "metadata": {},
   "outputs": [],
   "source": [
    "#for line in df['Comment']:\n",
    "for line in range(df2.shape[0]): \n",
    "#range() method returns total number or length or indexes of 2d array data's rows [0] or data's columns [1]\n",
    "#use df.shape[0] to only loop through rows while shape[1] gives columns\n",
    "\n",
    "    comments = df2.iloc[line, 1] #iloc returns the value of looped lines/rows of the first[1] column 'Comment' key index\n",
    "    #print(comments)\n",
    "    comments_analyzed = analyzer.polarity_scores(comments)\n",
    "    #print(comments_analyzed)\n",
    "    #print(\"{:-<65} {}\".format(comments, str(comments_analyzed)))\n",
    "    \n",
    "    if comments_analyzed[\"compound\"] >= 0.05:\n",
    "        sentiment = 'positive'\n",
    "    elif comments_analyzed[\"compound\"] <= -0.05:\n",
    "        sentiment = 'negative'\n",
    "    else:\n",
    "        sentiment = 'neutral'\n",
    "\n",
    "    #if comments_analyzed[\"compound\"] >= 0:\n",
    "        #sentiment = 'positive'\n",
    "    #else:\n",
    "        #sentiment = 'negative'\n",
    "\n",
    "\n",
    "#RUN ONCE\n",
    "    negative2.append(comments_analyzed[\"neg\"])\n",
    "    #negative += comments_analyzed[\"neg\"] is not suitable for this\n",
    "\n",
    "    positive2.append(comments_analyzed[\"pos\"])\n",
    "    #print(positive)\n",
    "\n",
    "    neutral2.append(comments_analyzed[\"neu\"])\n",
    "    #print(neutral)\n",
    "\n",
    "    compound2.append(comments_analyzed[\"compound\"])\n",
    "    #print(compound)\n",
    "\n",
    "    sentiment2.append(sentiment)"
   ]
  },
  {
   "cell_type": "markdown",
   "metadata": {},
   "source": [
    "cross checking"
   ]
  },
  {
   "cell_type": "code",
   "execution_count": 6,
   "metadata": {},
   "outputs": [
    {
     "data": {
      "text/plain": [
       "(1375, 4)"
      ]
     },
     "execution_count": 6,
     "metadata": {},
     "output_type": "execute_result"
    }
   ],
   "source": [
    "df1.shape"
   ]
  },
  {
   "cell_type": "code",
   "execution_count": 7,
   "metadata": {},
   "outputs": [
    {
     "data": {
      "text/plain": [
       "1375"
      ]
     },
     "execution_count": 7,
     "metadata": {},
     "output_type": "execute_result"
    }
   ],
   "source": [
    "len(negative1)"
   ]
  },
  {
   "cell_type": "code",
   "execution_count": 8,
   "metadata": {},
   "outputs": [
    {
     "data": {
      "text/plain": [
       "(222, 4)"
      ]
     },
     "execution_count": 8,
     "metadata": {},
     "output_type": "execute_result"
    }
   ],
   "source": [
    "df2.shape"
   ]
  },
  {
   "cell_type": "code",
   "execution_count": 9,
   "metadata": {},
   "outputs": [
    {
     "data": {
      "text/plain": [
       "222"
      ]
     },
     "execution_count": 9,
     "metadata": {},
     "output_type": "execute_result"
    }
   ],
   "source": [
    "len(negative2)"
   ]
  },
  {
   "cell_type": "code",
   "execution_count": 20,
   "metadata": {},
   "outputs": [],
   "source": [
    "#compare visualization graph of averages of 1 video to commentaire's graph of same video\n",
    "#total of neg / total rows = avg of neg\n",
    "#neutral + positive = positive\n",
    "\n",
    "#word cloud \n",
    "#combine words from all positive comments from all videos of channel list"
   ]
  },
  {
   "cell_type": "code",
   "execution_count": 10,
   "metadata": {},
   "outputs": [
    {
     "data": {
      "text/plain": [
       "Index(['comment_by', 'comment_text', 'comment_date', 'likes_count'], dtype='object')"
      ]
     },
     "execution_count": 10,
     "metadata": {},
     "output_type": "execute_result"
    }
   ],
   "source": [
    "df1.columns"
   ]
  },
  {
   "cell_type": "code",
   "execution_count": 11,
   "metadata": {},
   "outputs": [
    {
     "data": {
      "text/plain": [
       "Index(['comment_by', 'comment_text', 'comment_date', 'likes_count'], dtype='object')"
      ]
     },
     "execution_count": 11,
     "metadata": {},
     "output_type": "execute_result"
    }
   ],
   "source": [
    "df2.columns"
   ]
  },
  {
   "cell_type": "code",
   "execution_count": 12,
   "metadata": {},
   "outputs": [
    {
     "name": "stdout",
     "output_type": "stream",
     "text": [
      "0.038584\n",
      "0.8247447272727272\n",
      "0.13666109090909093\n",
      "0.18707592727272726\n"
     ]
    }
   ],
   "source": [
    "#add new columns to df1\n",
    "\n",
    "\n",
    "#add new columns and their values to dataframe version of json\n",
    "df1[\"negative\"] = negative1 #create and add new column named Negative\n",
    "df1[\"neutral\"] = neutral1\n",
    "df1[\"positive\"] = positive1\n",
    "df1[\"compound\"] = compound1\n",
    "df1[\"sentiment\"] = sentiment1\n",
    "\n",
    "#pd.set_option('display.max_columns', None)\n",
    "#print(df.head())\n",
    "\n",
    "\n",
    "#print(df1.nlargest(5, ['Negative']))\n",
    "#print(df1.nlargest(5, ['Neutral']))\n",
    "#print(df1.nlargest(5, ['Positive']))\n",
    "\n",
    "\n",
    "#average sentiment scores of 1st video comments\n",
    "neg_avg1 = df1['negative'].mean()\n",
    "print(neg_avg1)\n",
    "\n",
    "neu_avg1 = df1['neutral'].mean()\n",
    "print(neu_avg1)\n",
    "\n",
    "pos_avg1 = df1['positive'].mean()\n",
    "print(pos_avg1)\n",
    "\n",
    "compound_avg1 = df1['compound'].mean()\n",
    "print(compound_avg1)\n"
   ]
  },
  {
   "cell_type": "code",
   "execution_count": 13,
   "metadata": {},
   "outputs": [
    {
     "name": "stdout",
     "output_type": "stream",
     "text": [
      "0.08393693693693693\n",
      "0.7655900900900902\n",
      "0.1504864864864865\n",
      "0.12650900900900902\n"
     ]
    }
   ],
   "source": [
    "#add new columns to df2\n",
    "\n",
    "\n",
    "#add new columns and their values to dataframe version of json\n",
    "df2[\"negative\"] = negative2 #create and add new column named Negative\n",
    "df2[\"neutral\"] = neutral2\n",
    "df2[\"positive\"] = positive2\n",
    "df2[\"compound\"] = compound2\n",
    "df2[\"sentiment\"] = sentiment2\n",
    "\n",
    "#pd.set_option('display.max_columns', None)\n",
    "#print(df.head())\n",
    "\n",
    "\n",
    "#print(df1.nlargest(5, ['Negative']))\n",
    "#print(df1.nlargest(5, ['Neutral']))\n",
    "#print(df1.nlargest(5, ['Positive']))\n",
    "\n",
    "\n",
    "#average sentiment scores of 1st video comments\n",
    "neg_avg2 = df2['negative'].mean()\n",
    "print(neg_avg2)\n",
    "\n",
    "neu_avg2 = df2['neutral'].mean()\n",
    "print(neu_avg2)\n",
    "\n",
    "pos_avg2 = df2['positive'].mean()\n",
    "print(pos_avg2)\n",
    "\n",
    "compound_avg2 = df2['compound'].mean()\n",
    "print(compound_avg2)"
   ]
  },
  {
   "cell_type": "code",
   "execution_count": 14,
   "metadata": {},
   "outputs": [
    {
     "data": {
      "text/plain": [
       "Index(['comment_by', 'comment_text', 'comment_date', 'likes_count', 'negative',\n",
       "       'neutral', 'positive', 'compound', 'sentiment'],\n",
       "      dtype='object')"
      ]
     },
     "execution_count": 14,
     "metadata": {},
     "output_type": "execute_result"
    }
   ],
   "source": [
    "df2.columns"
   ]
  },
  {
   "cell_type": "code",
   "execution_count": 15,
   "metadata": {},
   "outputs": [
    {
     "data": {
      "text/plain": [
       "Index(['comment_by', 'comment_text', 'comment_date', 'likes_count', 'negative',\n",
       "       'neutral', 'positive', 'compound', 'sentiment'],\n",
       "      dtype='object')"
      ]
     },
     "execution_count": 15,
     "metadata": {},
     "output_type": "execute_result"
    }
   ],
   "source": [
    "df1.columns"
   ]
  },
  {
   "cell_type": "code",
   "execution_count": 16,
   "metadata": {},
   "outputs": [
    {
     "name": "stdout",
     "output_type": "stream",
     "text": [
      "1375\n"
     ]
    }
   ],
   "source": [
    "print(len(df1['comment_text']))"
   ]
  },
  {
   "cell_type": "code",
   "execution_count": 17,
   "metadata": {},
   "outputs": [
    {
     "name": "stdout",
     "output_type": "stream",
     "text": [
      "1375\n"
     ]
    }
   ],
   "source": [
    "print(len(df1['negative']))"
   ]
  },
  {
   "cell_type": "code",
   "execution_count": 20,
   "metadata": {},
   "outputs": [
    {
     "name": "stdout",
     "output_type": "stream",
     "text": [
      "            comment_by                                       comment_text  \\\n",
      "6          Andrea Rupe  How many galaxies are there? Can we count them...   \n",
      "7        faze minecrft  I made the name &quot;milky shrub&quot; (searc...   \n",
      "8            fei jiang  i thought that after big bang every object is ...   \n",
      "9          jmerdur 412                                      Andromeda way   \n",
      "11  Angelina Nicholaou                                           Medalaxy   \n",
      "\n",
      "            comment_date  likes_count  negative  neutral  positive  compound  \\\n",
      "6   2020-06-02T04:46:43Z            1       0.0      1.0       0.0       0.0   \n",
      "7   2020-06-01T23:03:59Z            0       0.0      1.0       0.0       0.0   \n",
      "8   2020-06-01T04:53:04Z            1       0.0      1.0       0.0       0.0   \n",
      "9   2020-06-01T02:25:52Z            0       0.0      1.0       0.0       0.0   \n",
      "11  2020-05-28T00:44:04Z            0       0.0      1.0       0.0       0.0   \n",
      "\n",
      "   sentiment  \n",
      "6    neutral  \n",
      "7    neutral  \n",
      "8    neutral  \n",
      "9    neutral  \n",
      "11   neutral  \n"
     ]
    }
   ],
   "source": [
    "print(df1.nlargest(5, ['neutral']))"
   ]
  },
  {
   "cell_type": "code",
   "execution_count": 21,
   "metadata": {},
   "outputs": [
    {
     "name": "stdout",
     "output_type": "stream",
     "text": [
      "df1 \n",
      " positive % = 13.666109090909092 \n",
      " negative % = 3.8584 \n",
      " neutral % = 82.47447272727271 \n",
      " compound % = 18.707592727272726\n"
     ]
    }
   ],
   "source": [
    "#https://www.geeksforgeeks.org/data-visualization-different-charts-python/\n",
    "#A pie chart represents numbers in percentages, and the total sum of all segments needs to equal 100%\n",
    "#bar chart of 2 bars\n",
    "#x axis = video's neg and pos averages\n",
    "#y axis = average score values\n",
    "\n",
    "\n",
    "posavgpercentage1 = pos_avg1*100\n",
    "negavgpercentage1 = neg_avg1*100\n",
    "neuavgpercentage1 = neu_avg1*100\n",
    "compoundavgpercentage1 = compound_avg1*100\n",
    "\n",
    "print('df1 \\n positive % = {} \\n negative % = {} \\n neutral % = {} \\n compound % = {}'.format(posavgpercentage1, negavgpercentage1, neuavgpercentage1, compoundavgpercentage1))\n",
    "\n",
    "#if compoundavgpercentage1 > 50:\n",
    "#   print('df1 sentiment is positive overall')\n",
    "#elseif compoundavgpercentage1 < 50:\n",
    "#   print('df1 sentiment is negative overall')\n",
    "#else:\n",
    "#   print('df1 sentiment is neutral overall')"
   ]
  },
  {
   "cell_type": "markdown",
   "metadata": {},
   "source": [
    "# overall video sentiment based on the total percentages of individual positive, negative, neutral scores"
   ]
  },
  {
   "cell_type": "code",
   "execution_count": 22,
   "metadata": {},
   "outputs": [
    {
     "data": {
      "image/png": "[encoded data removed]",
      "text/plain": [
       "<Figure size 640x480 with 1 Axes>"
      ]
     },
     "metadata": {},
     "output_type": "display_data"
    }
   ],
   "source": [
    "import matplotlib.pyplot as plt\n",
    "\n",
    "labels = ['Positive ['+str(posavgpercentage1)+'%]', 'Negative ['+str(negavgpercentage1)+'%]', 'Neutral ['+str(neuavgpercentage1)+'%]']\n",
    "sizes = [posavgpercentage1, negavgpercentage1, neuavgpercentage1]\n",
    "colors = ['blue','red', 'purple']\n",
    "patches, texts = plt.pie(sizes, colors=colors, startangle=90)\n",
    "plt.legend(patches,labels,loc=\"best\")\n",
    "\n",
    "plt.title(\"df1 results/crashcourse/_O2sg-PGhEg.json\") \n",
    "\n",
    "#def dump() function to extract video_title and use video_title to name csv file of comments of your own code\n",
    "\n",
    "plt.axis('equal')\n",
    "plt.tight_layout()\n",
    "plt.show()"
   ]
  },
  {
   "cell_type": "code",
   "execution_count": 23,
   "metadata": {},
   "outputs": [
    {
     "name": "stdout",
     "output_type": "stream",
     "text": [
      "df2 \n",
      " positive % = 15.04864864864865 \n",
      " negative % = 8.393693693693693 \n",
      " neutral % = 76.55900900900902 \n",
      " compound % = 12.650900900900902\n"
     ]
    }
   ],
   "source": [
    "posavgpercentage2 = pos_avg2*100\n",
    "negavgpercentage2 = neg_avg2*100\n",
    "neuavgpercentage2 = neu_avg2*100\n",
    "compoundavgpercentage2 = compound_avg2*100\n",
    "\n",
    "print('df2 \\n positive % = {} \\n negative % = {} \\n neutral % = {} \\n compound % = {}'.format(posavgpercentage2, negavgpercentage2, neuavgpercentage2, compoundavgpercentage2))\n",
    "\n",
    "#if compoundavgpercentage2 > 50:\n",
    "#   print('df2 sentiment is positive overall')\n",
    "#elseif compoundavgpercentage2 < 50:\n",
    "#   print('df2 sentiment is negative overall')\n",
    "#else:\n",
    "#   print('df2 sentiment is neutral overall')\n",
    "\n"
   ]
  },
  {
   "cell_type": "code",
   "execution_count": 24,
   "metadata": {},
   "outputs": [
    {
     "data": {
      "image/png": "[encoded data removed]",
      "text/plain": [
       "<Figure size 640x480 with 1 Axes>"
      ]
     },
     "metadata": {},
     "output_type": "display_data"
    }
   ],
   "source": [
    "labels = ['Positive ['+str(posavgpercentage2)+'%]', 'Negative ['+str(negavgpercentage2)+'%]', 'Neutral ['+str(neuavgpercentage2)+'%]']\n",
    "sizes = [posavgpercentage2, negavgpercentage2, neuavgpercentage2]\n",
    "colors = ['blue','red', 'purple']\n",
    "patches, texts = plt.pie(sizes, colors=colors, startangle=90)\n",
    "plt.legend(patches,labels,loc=\"best\")\n",
    "\n",
    "plt.title(\"df2 results/crashcourse/_tULRch1PRQ.json\") \n",
    "\n",
    "#def dump() function to extract video_title and use video_title to name csv file of comments of your own code\n",
    "\n",
    "plt.axis('equal')\n",
    "plt.tight_layout()\n",
    "plt.show()"
   ]
  },
  {
   "cell_type": "code",
   "execution_count": 25,
   "metadata": {},
   "outputs": [
    {
     "name": "stdout",
     "output_type": "stream",
     "text": [
      "😀\n",
      "👍\n"
     ]
    }
   ],
   "source": [
    "#https://pypi.org/project/emoji/\n",
    "#https://unicode.org/emoji/charts/full-emoji-list.html\n",
    "\n",
    "import emoji\n",
    "print(emoji.emojize(':grinning_face:')) \n",
    "print(emoji.emojize(':thumbs_up:'))"
   ]
  },
  {
   "cell_type": "markdown",
   "metadata": {},
   "source": [
    "# with emojis"
   ]
  },
  {
   "cell_type": "code",
   "execution_count": 34,
   "metadata": {},
   "outputs": [
    {
     "data": {
      "image/png": "[encoded data removed]",
      "text/plain": [
       "<Figure size 640x480 with 1 Axes>"
      ]
     },
     "metadata": {},
     "output_type": "display_data"
    }
   ],
   "source": [
    "labels = [emoji.emojize(':grinning_face:'), emoji.emojize(':frowning_face:'), emoji.emojize(':neutral_face:')]\n",
    "sizes = [posavgpercentage1, negavgpercentage1, neuavgpercentage1]\n",
    "colors = ['blue', 'red', 'purple']\n",
    "patches, texts = plt.pie(sizes, colors=colors, startangle=90)\n",
    "plt.legend(patches,labels,loc=\"best\")\n",
    "\n",
    "plt.title(\"df1 results/crashcourse/_O2sg-PGhEg.json\") \n",
    "\n",
    "plt.axis('equal')\n",
    "plt.tight_layout()\n",
    "plt.show()"
   ]
  },
  {
   "cell_type": "code",
   "execution_count": 35,
   "metadata": {},
   "outputs": [
    {
     "data": {
      "image/png": "[encoded data removed]",
      "text/plain": [
       "<Figure size 640x480 with 1 Axes>"
      ]
     },
     "metadata": {},
     "output_type": "display_data"
    }
   ],
   "source": [
    "labels = [emoji.emojize(':smiling_face:'), emoji.emojize(':frowning_face:'), emoji.emojize(':neutral_face:')]\n",
    "sizes = [posavgpercentage2, negavgpercentage2, neuavgpercentage2]\n",
    "colors = ['blue', 'red', 'purple']\n",
    "patches, texts = plt.pie(sizes, colors=colors, startangle=90)\n",
    "plt.legend(patches,labels,loc=\"best\")\n",
    "\n",
    "plt.title(\"df2 results/crashcourse/_tULRch1PRQ.json\") \n",
    "\n",
    "plt.axis('equal')\n",
    "plt.tight_layout()\n",
    "plt.show()"
   ]
  },
  {
   "cell_type": "markdown",
   "metadata": {},
   "source": [
    "# amount of sentiments based on compound scoring of every comment\n",
    "### e.g: 1 positive is of 1 comment"
   ]
  },
  {
   "cell_type": "code",
   "execution_count": 36,
   "metadata": {},
   "outputs": [
    {
     "data": {
      "text/plain": [
       "<AxesSubplot:>"
      ]
     },
     "execution_count": 36,
     "metadata": {},
     "output_type": "execute_result"
    },
    {
     "data": {
      "image/png": "[encoded data removed]",
      "text/plain": [
       "<Figure size 640x480 with 1 Axes>"
      ]
     },
     "metadata": {},
     "output_type": "display_data"
    }
   ],
   "source": [
    "result1 = df1['sentiment'].value_counts()\n",
    "result1.plot(kind='bar', rot=0, color=['black', 'black', 'black'])"
   ]
  },
  {
   "cell_type": "code",
   "execution_count": 37,
   "metadata": {},
   "outputs": [
    {
     "data": {
      "text/plain": [
       "<AxesSubplot:>"
      ]
     },
     "execution_count": 37,
     "metadata": {},
     "output_type": "execute_result"
    },
    {
     "data": {
      "image/png": "[encoded data removed]",
      "text/plain": [
       "<Figure size 640x480 with 1 Axes>"
      ]
     },
     "metadata": {},
     "output_type": "display_data"
    }
   ],
   "source": [
    "result2 = df2['sentiment'].value_counts()\n",
    "result2.plot(kind='bar', rot=0, color=['black', 'black', 'black'])"
   ]
  },
  {
   "cell_type": "code",
   "execution_count": null,
   "metadata": {},
   "outputs": [],
   "source": [
    "# CREDITS https://github.com/cjhutto/vaderSentiment#about-the-scoring\n",
    "# CITE Hutto, C.J. & Gilbert, E.E. (2014). VADER: A Parsimonious Rule-based Model for Sentiment Analysis of Social Media Text. Eighth International Conference on Weblogs and Social Media (ICWSM-14). Ann Arbor, MI, June 2014."
   ]
  }
 ],
 "metadata": {
  "kernelspec": {
   "display_name": "Python 3.9.13 ('.venv': venv)",
   "language": "python",
   "name": "python3"
  },
  "language_info": {
   "codemirror_mode": {
    "name": "ipython",
    "version": 3
   },
   "file_extension": ".py",
   "mimetype": "text/x-python",
   "name": "python",
   "nbconvert_exporter": "python",
   "pygments_lexer": "ipython3",
   "version": "3.9.13"
  },
  "orig_nbformat": 4,
  "vscode": {
   "interpreter": {
    "hash": "b52c38fc9cc1debdf8d76a081e411b75b266f8c9c62e44f6df99918effc85be8"
   }
  }
 },
 "nbformat": 4,
 "nbformat_minor": 2
}
