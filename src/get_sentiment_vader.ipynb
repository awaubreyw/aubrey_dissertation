{
 "cells": [
  {
   "cell_type": "code",
   "execution_count": 1,
   "metadata": {},
   "outputs": [],
   "source": [
    "from vaderSentiment.vaderSentiment import SentimentIntensityAnalyzer\n",
    "import json\n",
    "import pandas as pd"
   ]
  },
  {
   "cell_type": "code",
   "execution_count": 6,
   "metadata": {},
   "outputs": [],
   "source": [
    "#with open('results/khanacademy/_b-2rZpX5z4.json', 'r') as f:\n",
    "    #df = json.load(f)\n",
    "\n",
    "df1 = pd.read_json('results/crashcourse/_O2sg-PGhEg.json')\n",
    "\n",
    "df2 = pd.read_json('results/crashcourse/_tULRch1PRQ.json')\n",
    "\n",
    "#AUTOMATE\n",
    "#for video_id in video_ids_crashcourse.json:\n",
    "#   df = pd.read_json(f'results/crashcourse/{video_id}.json')\n",
    "#   if some json files with those video_ids do not exist, continue to the next (eg. 492 files in crashcourse folder instead of 1,439 videos on crashcourse youtube channel)"
   ]
  },
  {
   "cell_type": "code",
   "execution_count": 5,
   "metadata": {},
   "outputs": [
    {
     "data": {
      "text/html": [
       "<div>\n",
       "<style scoped>\n",
       "    .dataframe tbody tr th:only-of-type {\n",
       "        vertical-align: middle;\n",
       "    }\n",
       "\n",
       "    .dataframe tbody tr th {\n",
       "        vertical-align: top;\n",
       "    }\n",
       "\n",
       "    .dataframe thead th {\n",
       "        text-align: right;\n",
       "    }\n",
       "</style>\n",
       "<table border=\"1\" class=\"dataframe\">\n",
       "  <thead>\n",
       "    <tr style=\"text-align: right;\">\n",
       "      <th></th>\n",
       "      <th>comment_by</th>\n",
       "      <th>comment_text</th>\n",
       "      <th>comment_date</th>\n",
       "      <th>likes_count</th>\n",
       "    </tr>\n",
       "  </thead>\n",
       "  <tbody>\n",
       "    <tr>\n",
       "      <th>0</th>\n",
       "      <td>sam JD</td>\n",
       "      <td>awesome host.. thank u so much</td>\n",
       "      <td>2022-07-14T09:38:00Z</td>\n",
       "      <td>1</td>\n",
       "    </tr>\n",
       "    <tr>\n",
       "      <th>1</th>\n",
       "      <td>Franzi Z</td>\n",
       "      <td>I love this series more with every episode I w...</td>\n",
       "      <td>2020-06-18T17:26:03Z</td>\n",
       "      <td>4</td>\n",
       "    </tr>\n",
       "    <tr>\n",
       "      <th>2</th>\n",
       "      <td>Wade Allen</td>\n",
       "      <td>When I see images or renderings of super clust...</td>\n",
       "      <td>2020-06-17T17:46:52Z</td>\n",
       "      <td>0</td>\n",
       "    </tr>\n",
       "    <tr>\n",
       "      <th>3</th>\n",
       "      <td>Susurrus</td>\n",
       "      <td>It&amp;#39;s kinda like a video game where you try...</td>\n",
       "      <td>2020-06-10T12:41:45Z</td>\n",
       "      <td>1</td>\n",
       "    </tr>\n",
       "    <tr>\n",
       "      <th>4</th>\n",
       "      <td>Eugene Scott</td>\n",
       "      <td>Can someone shed some light on why a super mas...</td>\n",
       "      <td>2020-06-06T00:10:48Z</td>\n",
       "      <td>0</td>\n",
       "    </tr>\n",
       "  </tbody>\n",
       "</table>\n",
       "</div>"
      ],
      "text/plain": [
       "     comment_by                                       comment_text  \\\n",
       "0        sam JD                     awesome host.. thank u so much   \n",
       "1      Franzi Z  I love this series more with every episode I w...   \n",
       "2    Wade Allen  When I see images or renderings of super clust...   \n",
       "3      Susurrus  It&#39;s kinda like a video game where you try...   \n",
       "4  Eugene Scott  Can someone shed some light on why a super mas...   \n",
       "\n",
       "           comment_date  likes_count  \n",
       "0  2022-07-14T09:38:00Z            1  \n",
       "1  2020-06-18T17:26:03Z            4  \n",
       "2  2020-06-17T17:46:52Z            0  \n",
       "3  2020-06-10T12:41:45Z            1  \n",
       "4  2020-06-06T00:10:48Z            0  "
      ]
     },
     "execution_count": 5,
     "metadata": {},
     "output_type": "execute_result"
    }
   ],
   "source": [
    "df1.head()"
   ]
  },
  {
   "cell_type": "code",
   "execution_count": 7,
   "metadata": {},
   "outputs": [
    {
     "data": {
      "text/html": [
       "<div>\n",
       "<style scoped>\n",
       "    .dataframe tbody tr th:only-of-type {\n",
       "        vertical-align: middle;\n",
       "    }\n",
       "\n",
       "    .dataframe tbody tr th {\n",
       "        vertical-align: top;\n",
       "    }\n",
       "\n",
       "    .dataframe thead th {\n",
       "        text-align: right;\n",
       "    }\n",
       "</style>\n",
       "<table border=\"1\" class=\"dataframe\">\n",
       "  <thead>\n",
       "    <tr style=\"text-align: right;\">\n",
       "      <th></th>\n",
       "      <th>comment_by</th>\n",
       "      <th>comment_text</th>\n",
       "      <th>comment_date</th>\n",
       "      <th>likes_count</th>\n",
       "    </tr>\n",
       "  </thead>\n",
       "  <tbody>\n",
       "    <tr>\n",
       "      <th>0</th>\n",
       "      <td>Rich Invents</td>\n",
       "      <td>Excellent video, very informative.  ONE sugges...</td>\n",
       "      <td>2022-08-15T14:58:30Z</td>\n",
       "      <td>0</td>\n",
       "    </tr>\n",
       "    <tr>\n",
       "      <th>1</th>\n",
       "      <td>F Wily</td>\n",
       "      <td>Talk faster, you are too slow. I only have a 3...</td>\n",
       "      <td>2020-05-16T14:55:28Z</td>\n",
       "      <td>4</td>\n",
       "    </tr>\n",
       "    <tr>\n",
       "      <th>2</th>\n",
       "      <td>Sedat Ayyıldız</td>\n",
       "      <td>I like your academic and scientific jokes :))</td>\n",
       "      <td>2020-05-06T10:26:24Z</td>\n",
       "      <td>1</td>\n",
       "    </tr>\n",
       "    <tr>\n",
       "      <th>3</th>\n",
       "      <td>Eva Lynn</td>\n",
       "      <td>This mans hilarious</td>\n",
       "      <td>2020-04-28T09:52:08Z</td>\n",
       "      <td>0</td>\n",
       "    </tr>\n",
       "    <tr>\n",
       "      <th>4</th>\n",
       "      <td>Timothy Little</td>\n",
       "      <td>The best way to rob a bank is to own one</td>\n",
       "      <td>2020-04-09T07:37:44Z</td>\n",
       "      <td>1</td>\n",
       "    </tr>\n",
       "  </tbody>\n",
       "</table>\n",
       "</div>"
      ],
      "text/plain": [
       "       comment_by                                       comment_text  \\\n",
       "0    Rich Invents  Excellent video, very informative.  ONE sugges...   \n",
       "1          F Wily  Talk faster, you are too slow. I only have a 3...   \n",
       "2  Sedat Ayyıldız      I like your academic and scientific jokes :))   \n",
       "3        Eva Lynn                                This mans hilarious   \n",
       "4  Timothy Little           The best way to rob a bank is to own one   \n",
       "\n",
       "           comment_date  likes_count  \n",
       "0  2022-08-15T14:58:30Z            0  \n",
       "1  2020-05-16T14:55:28Z            4  \n",
       "2  2020-05-06T10:26:24Z            1  \n",
       "3  2020-04-28T09:52:08Z            0  \n",
       "4  2020-04-09T07:37:44Z            1  "
      ]
     },
     "execution_count": 7,
     "metadata": {},
     "output_type": "execute_result"
    }
   ],
   "source": [
    "df2.head()"
   ]
  },
  {
   "cell_type": "code",
   "execution_count": null,
   "metadata": {},
   "outputs": [],
   "source": []
  }
 ],
 "metadata": {
  "kernelspec": {
   "display_name": "Python 3.9.13 ('.venv': venv)",
   "language": "python",
   "name": "python3"
  },
  "language_info": {
   "codemirror_mode": {
    "name": "ipython",
    "version": 3
   },
   "file_extension": ".py",
   "mimetype": "text/x-python",
   "name": "python",
   "nbconvert_exporter": "python",
   "pygments_lexer": "ipython3",
   "version": "3.9.13"
  },
  "orig_nbformat": 4,
  "vscode": {
   "interpreter": {
    "hash": "b52c38fc9cc1debdf8d76a081e411b75b266f8c9c62e44f6df99918effc85be8"
   }
  }
 },
 "nbformat": 4,
 "nbformat_minor": 2
}
