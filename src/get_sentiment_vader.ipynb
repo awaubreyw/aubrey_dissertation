{
 "cells": [
  {
   "cell_type": "code",
   "execution_count": 2,
   "metadata": {},
   "outputs": [],
   "source": [
    "# CREDITS\n",
    "#https://www.youtube.com/watch?v=7azmUg6XZA0 Open Source Student vaderSentiment and pandas video\n",
    "#https://www.youtube.com/playlist?list=PL-osiE80TeTsWmV9i9c58mdDCSskIFdDS Corey Schafer pandas playlist videos\n",
    "#https://neptune.ai/blog/sentiment-analysis-python-textblob-vs-vader-vs-flair\n",
    "\n",
    "# CITE \n",
    "#Hutto, C.J. & Gilbert, E.E. (2014). VADER: A Parsimonious Rule-based Model for Sentiment Analysis of Social Media Text. Eighth International Conference on Weblogs and Social Media (ICWSM-14). Ann Arbor, MI, June 2014.\n",
    "\n",
    "from vaderSentiment.vaderSentiment import SentimentIntensityAnalyzer\n",
    "import json\n",
    "import pandas as pd"
   ]
  },
  {
   "cell_type": "code",
   "execution_count": 3,
   "metadata": {},
   "outputs": [],
   "source": [
    "#with open('results/khanacademy/_b-2rZpX5z4.json', 'r') as f:\n",
    "    #df = json.load(f)\n",
    "\n",
    "#COMPARE BETWEEN 2 VIDEOS TO START OFF THE SENTIMENT ANALYSIS MODEL  \n",
    "df1 = pd.read_json('results/crashcourse/_O2sg-PGhEg.json')\n",
    "\n",
    "df2 = pd.read_json('results/crashcourse/_tULRch1PRQ.json')\n",
    "\n",
    "#AUTOMATE\n",
    "#for video_id in video_ids_crashcourse.json:\n",
    "#   df = pd.read_json(f'results/crashcourse/{video_id}.json')\n",
    "#   if some json files with those video_ids do not exist, continue to the next (eg. 492 files in crashcourse folder instead of 1,439 videos on crashcourse youtube channel)"
   ]
  },
  {
   "cell_type": "code",
   "execution_count": 5,
   "metadata": {},
   "outputs": [
    {
     "data": {
      "text/html": [
       "<div>\n",
       "<style scoped>\n",
       "    .dataframe tbody tr th:only-of-type {\n",
       "        vertical-align: middle;\n",
       "    }\n",
       "\n",
       "    .dataframe tbody tr th {\n",
       "        vertical-align: top;\n",
       "    }\n",
       "\n",
       "    .dataframe thead th {\n",
       "        text-align: right;\n",
       "    }\n",
       "</style>\n",
       "<table border=\"1\" class=\"dataframe\">\n",
       "  <thead>\n",
       "    <tr style=\"text-align: right;\">\n",
       "      <th></th>\n",
       "      <th>comment_by</th>\n",
       "      <th>comment_text</th>\n",
       "      <th>comment_date</th>\n",
       "      <th>likes_count</th>\n",
       "    </tr>\n",
       "  </thead>\n",
       "  <tbody>\n",
       "    <tr>\n",
       "      <th>0</th>\n",
       "      <td>sam JD</td>\n",
       "      <td>awesome host.. thank u so much</td>\n",
       "      <td>2022-07-14T09:38:00Z</td>\n",
       "      <td>1</td>\n",
       "    </tr>\n",
       "    <tr>\n",
       "      <th>1</th>\n",
       "      <td>Franzi Z</td>\n",
       "      <td>I love this series more with every episode I w...</td>\n",
       "      <td>2020-06-18T17:26:03Z</td>\n",
       "      <td>4</td>\n",
       "    </tr>\n",
       "    <tr>\n",
       "      <th>2</th>\n",
       "      <td>Wade Allen</td>\n",
       "      <td>When I see images or renderings of super clust...</td>\n",
       "      <td>2020-06-17T17:46:52Z</td>\n",
       "      <td>0</td>\n",
       "    </tr>\n",
       "    <tr>\n",
       "      <th>3</th>\n",
       "      <td>Susurrus</td>\n",
       "      <td>It&amp;#39;s kinda like a video game where you try...</td>\n",
       "      <td>2020-06-10T12:41:45Z</td>\n",
       "      <td>1</td>\n",
       "    </tr>\n",
       "    <tr>\n",
       "      <th>4</th>\n",
       "      <td>Eugene Scott</td>\n",
       "      <td>Can someone shed some light on why a super mas...</td>\n",
       "      <td>2020-06-06T00:10:48Z</td>\n",
       "      <td>0</td>\n",
       "    </tr>\n",
       "  </tbody>\n",
       "</table>\n",
       "</div>"
      ],
      "text/plain": [
       "     comment_by                                       comment_text  \\\n",
       "0        sam JD                     awesome host.. thank u so much   \n",
       "1      Franzi Z  I love this series more with every episode I w...   \n",
       "2    Wade Allen  When I see images or renderings of super clust...   \n",
       "3      Susurrus  It&#39;s kinda like a video game where you try...   \n",
       "4  Eugene Scott  Can someone shed some light on why a super mas...   \n",
       "\n",
       "           comment_date  likes_count  \n",
       "0  2022-07-14T09:38:00Z            1  \n",
       "1  2020-06-18T17:26:03Z            4  \n",
       "2  2020-06-17T17:46:52Z            0  \n",
       "3  2020-06-10T12:41:45Z            1  \n",
       "4  2020-06-06T00:10:48Z            0  "
      ]
     },
     "execution_count": 5,
     "metadata": {},
     "output_type": "execute_result"
    }
   ],
   "source": [
    "df1.head()"
   ]
  },
  {
   "cell_type": "code",
   "execution_count": 7,
   "metadata": {},
   "outputs": [
    {
     "data": {
      "text/html": [
       "<div>\n",
       "<style scoped>\n",
       "    .dataframe tbody tr th:only-of-type {\n",
       "        vertical-align: middle;\n",
       "    }\n",
       "\n",
       "    .dataframe tbody tr th {\n",
       "        vertical-align: top;\n",
       "    }\n",
       "\n",
       "    .dataframe thead th {\n",
       "        text-align: right;\n",
       "    }\n",
       "</style>\n",
       "<table border=\"1\" class=\"dataframe\">\n",
       "  <thead>\n",
       "    <tr style=\"text-align: right;\">\n",
       "      <th></th>\n",
       "      <th>comment_by</th>\n",
       "      <th>comment_text</th>\n",
       "      <th>comment_date</th>\n",
       "      <th>likes_count</th>\n",
       "    </tr>\n",
       "  </thead>\n",
       "  <tbody>\n",
       "    <tr>\n",
       "      <th>0</th>\n",
       "      <td>Rich Invents</td>\n",
       "      <td>Excellent video, very informative.  ONE sugges...</td>\n",
       "      <td>2022-08-15T14:58:30Z</td>\n",
       "      <td>0</td>\n",
       "    </tr>\n",
       "    <tr>\n",
       "      <th>1</th>\n",
       "      <td>F Wily</td>\n",
       "      <td>Talk faster, you are too slow. I only have a 3...</td>\n",
       "      <td>2020-05-16T14:55:28Z</td>\n",
       "      <td>4</td>\n",
       "    </tr>\n",
       "    <tr>\n",
       "      <th>2</th>\n",
       "      <td>Sedat Ayyıldız</td>\n",
       "      <td>I like your academic and scientific jokes :))</td>\n",
       "      <td>2020-05-06T10:26:24Z</td>\n",
       "      <td>1</td>\n",
       "    </tr>\n",
       "    <tr>\n",
       "      <th>3</th>\n",
       "      <td>Eva Lynn</td>\n",
       "      <td>This mans hilarious</td>\n",
       "      <td>2020-04-28T09:52:08Z</td>\n",
       "      <td>0</td>\n",
       "    </tr>\n",
       "    <tr>\n",
       "      <th>4</th>\n",
       "      <td>Timothy Little</td>\n",
       "      <td>The best way to rob a bank is to own one</td>\n",
       "      <td>2020-04-09T07:37:44Z</td>\n",
       "      <td>1</td>\n",
       "    </tr>\n",
       "  </tbody>\n",
       "</table>\n",
       "</div>"
      ],
      "text/plain": [
       "       comment_by                                       comment_text  \\\n",
       "0    Rich Invents  Excellent video, very informative.  ONE sugges...   \n",
       "1          F Wily  Talk faster, you are too slow. I only have a 3...   \n",
       "2  Sedat Ayyıldız      I like your academic and scientific jokes :))   \n",
       "3        Eva Lynn                                This mans hilarious   \n",
       "4  Timothy Little           The best way to rob a bank is to own one   \n",
       "\n",
       "           comment_date  likes_count  \n",
       "0  2022-08-15T14:58:30Z            0  \n",
       "1  2020-05-16T14:55:28Z            4  \n",
       "2  2020-05-06T10:26:24Z            1  \n",
       "3  2020-04-28T09:52:08Z            0  \n",
       "4  2020-04-09T07:37:44Z            1  "
      ]
     },
     "execution_count": 7,
     "metadata": {},
     "output_type": "execute_result"
    }
   ],
   "source": [
    "df2.head()"
   ]
  },
  {
   "cell_type": "code",
   "execution_count": 9,
   "metadata": {},
   "outputs": [],
   "source": [
    "# CITE \n",
    "#Hutto, C.J. & Gilbert, E.E. (2014). VADER: A Parsimonious Rule-based Model for Sentiment Analysis of Social Media Text. Eighth International Conference on Weblogs and Social Media (ICWSM-14). Ann Arbor, MI, June 2014.\n",
    "\n",
    "analyzer = SentimentIntensityAnalyzer()\n",
    "positive1 = []\n",
    "negative1 = []\n",
    "neutral1 = []\n",
    "\n",
    "positive2 = []\n",
    "negative2 = []\n",
    "neutral2 = []"
   ]
  },
  {
   "cell_type": "code",
   "execution_count": 10,
   "metadata": {},
   "outputs": [],
   "source": [
    "#for line in df['Comment']:\n",
    "for line in range(df1.shape[0]): \n",
    "#range() method returns total number or length or indexes of 2d array data's rows [0] or data's columns [1]\n",
    "#use df.shape[0] to only loop through rows while shape[1] gives columns\n",
    "\n",
    "    comments = df1.iloc[line, 1] #iloc returns the value of looped lines/rows of the first[1] column 'Comment' key index\n",
    "    #print(comments)\n",
    "    comments_analyzed = analyzer.polarity_scores(comments)\n",
    "    #print(comments_analyzed)\n",
    "    #print(\"{:-<65} {}\".format(comments, str(comments_analyzed)))\n",
    "\n",
    "\n",
    "#RUN ONCE\n",
    "    negative1.append(comments_analyzed[\"neg\"])\n",
    "    #negative += comments_analyzed[\"neg\"] is not suitable for this\n",
    "\n",
    "    positive1.append(comments_analyzed[\"pos\"])\n",
    "    #print(positive)\n",
    "\n",
    "    neutral1.append(comments_analyzed[\"neu\"])\n",
    "    #print(neutral)"
   ]
  },
  {
   "cell_type": "code",
   "execution_count": 11,
   "metadata": {},
   "outputs": [],
   "source": [
    "#for line in df['Comment']:\n",
    "for line in range(df2.shape[0]): \n",
    "#range() method returns total number or length or indexes of 2d array data's rows [0] or data's columns [1]\n",
    "#use df.shape[0] to only loop through rows while shape[1] gives columns\n",
    "\n",
    "    comments = df2.iloc[line, 1] #iloc returns the value of looped lines/rows of the first[1] column 'Comment' key index\n",
    "    #print(comments)\n",
    "    comments_analyzed = analyzer.polarity_scores(comments)\n",
    "    #print(comments_analyzed)\n",
    "    #print(\"{:-<65} {}\".format(comments, str(comments_analyzed)))\n",
    "\n",
    "\n",
    "#RUN ONCE\n",
    "    negative2.append(comments_analyzed[\"neg\"])\n",
    "    #negative += comments_analyzed[\"neg\"] is not suitable for this\n",
    "\n",
    "    positive2.append(comments_analyzed[\"pos\"])\n",
    "    #print(positive)\n",
    "\n",
    "    neutral2.append(comments_analyzed[\"neu\"])\n",
    "    #print(neutral)"
   ]
  },
  {
   "cell_type": "markdown",
   "metadata": {},
   "source": [
    "cross checking"
   ]
  },
  {
   "cell_type": "code",
   "execution_count": 17,
   "metadata": {},
   "outputs": [
    {
     "data": {
      "text/plain": [
       "(1375, 4)"
      ]
     },
     "execution_count": 17,
     "metadata": {},
     "output_type": "execute_result"
    }
   ],
   "source": [
    "df1.shape"
   ]
  },
  {
   "cell_type": "code",
   "execution_count": 18,
   "metadata": {},
   "outputs": [
    {
     "data": {
      "text/plain": [
       "1375"
      ]
     },
     "execution_count": 18,
     "metadata": {},
     "output_type": "execute_result"
    }
   ],
   "source": [
    "len(negative1)"
   ]
  },
  {
   "cell_type": "code",
   "execution_count": 13,
   "metadata": {},
   "outputs": [
    {
     "data": {
      "text/plain": [
       "(222, 4)"
      ]
     },
     "execution_count": 13,
     "metadata": {},
     "output_type": "execute_result"
    }
   ],
   "source": [
    "df2.shape"
   ]
  },
  {
   "cell_type": "code",
   "execution_count": 16,
   "metadata": {},
   "outputs": [
    {
     "data": {
      "text/plain": [
       "222"
      ]
     },
     "execution_count": 16,
     "metadata": {},
     "output_type": "execute_result"
    }
   ],
   "source": [
    "len(negative2)"
   ]
  },
  {
   "cell_type": "code",
   "execution_count": 20,
   "metadata": {},
   "outputs": [],
   "source": [
    "#compare visualization graph of averages of 1 video to commentaire's graph of same video\n",
    "#total of neg / total rows = avg of neg\n",
    "#neutral + positive = positive\n",
    "\n",
    "#word cloud \n",
    "#combine words from all positive comments from all videos of channel list"
   ]
  },
  {
   "cell_type": "code",
   "execution_count": 21,
   "metadata": {},
   "outputs": [
    {
     "data": {
      "text/plain": [
       "Index(['comment_by', 'comment_text', 'comment_date', 'likes_count'], dtype='object')"
      ]
     },
     "execution_count": 21,
     "metadata": {},
     "output_type": "execute_result"
    }
   ],
   "source": [
    "df1.columns"
   ]
  },
  {
   "cell_type": "code",
   "execution_count": 22,
   "metadata": {},
   "outputs": [
    {
     "data": {
      "text/plain": [
       "Index(['comment_by', 'comment_text', 'comment_date', 'likes_count'], dtype='object')"
      ]
     },
     "execution_count": 22,
     "metadata": {},
     "output_type": "execute_result"
    }
   ],
   "source": [
    "df2.columns"
   ]
  },
  {
   "cell_type": "code",
   "execution_count": 34,
   "metadata": {},
   "outputs": [
    {
     "name": "stdout",
     "output_type": "stream",
     "text": [
      "0.038584\n",
      "0.8247447272727272\n",
      "0.13666109090909093\n"
     ]
    }
   ],
   "source": [
    "#add new columns to df1\n",
    "\n",
    "\n",
    "#add new columns and their values to dataframe version of json\n",
    "df1[\"negative\"] = negative1 #create and add new column named Negative\n",
    "df1[\"neutral\"] = neutral1\n",
    "df1[\"positive\"] = positive1\n",
    "\n",
    "#pd.set_option('display.max_columns', None)\n",
    "#print(df.head())\n",
    "\n",
    "\n",
    "#print(df1.nlargest(5, ['Negative']))\n",
    "#print(df1.nlargest(5, ['Neutral']))\n",
    "#print(df1.nlargest(5, ['Positive']))\n",
    "\n",
    "\n",
    "#average sentiment scores of 1st video comments\n",
    "neg_avg1 = df1['negative'].mean()\n",
    "print(neg_avg1)\n",
    "\n",
    "neu_avg1 = df1['neutral'].mean()\n",
    "print(neu_avg1)\n",
    "\n",
    "pos_avg1 = df1['positive'].mean()\n",
    "print(pos_avg1)\n"
   ]
  },
  {
   "cell_type": "code",
   "execution_count": 35,
   "metadata": {},
   "outputs": [
    {
     "name": "stdout",
     "output_type": "stream",
     "text": [
      "0.08393693693693693\n",
      "0.7655900900900902\n",
      "0.1504864864864865\n"
     ]
    }
   ],
   "source": [
    "#add new columns to df2\n",
    "\n",
    "\n",
    "#add new columns and their values to dataframe version of json\n",
    "df2[\"negative\"] = negative2 #create and add new column named Negative\n",
    "df2[\"neutral\"] = neutral2\n",
    "df2[\"positive\"] = positive2\n",
    "\n",
    "#pd.set_option('display.max_columns', None)\n",
    "#print(df.head())\n",
    "\n",
    "\n",
    "#print(df1.nlargest(5, ['Negative']))\n",
    "#print(df1.nlargest(5, ['Neutral']))\n",
    "#print(df1.nlargest(5, ['Positive']))\n",
    "\n",
    "\n",
    "#average sentiment scores of 1st video comments\n",
    "neg_avg2 = df2['negative'].mean()\n",
    "print(neg_avg2)\n",
    "\n",
    "neu_avg2 = df2['neutral'].mean()\n",
    "print(neu_avg2)\n",
    "\n",
    "pos_avg2 = df2['positive'].mean()\n",
    "print(pos_avg2)"
   ]
  },
  {
   "cell_type": "code",
   "execution_count": 36,
   "metadata": {},
   "outputs": [
    {
     "data": {
      "text/plain": [
       "Index(['comment_by', 'comment_text', 'comment_date', 'likes_count', 'Negative',\n",
       "       'Neutral', 'Positive', 'negative', 'neutral', 'positive'],\n",
       "      dtype='object')"
      ]
     },
     "execution_count": 36,
     "metadata": {},
     "output_type": "execute_result"
    }
   ],
   "source": [
    "df2.columns"
   ]
  },
  {
   "cell_type": "code",
   "execution_count": 37,
   "metadata": {},
   "outputs": [
    {
     "data": {
      "text/plain": [
       "Index(['comment_by', 'comment_text', 'comment_date', 'likes_count', 'Negative',\n",
       "       'Neutral', 'Positive', 'negative', 'neutral', 'positive'],\n",
       "      dtype='object')"
      ]
     },
     "execution_count": 37,
     "metadata": {},
     "output_type": "execute_result"
    }
   ],
   "source": [
    "df1.columns"
   ]
  },
  {
   "cell_type": "code",
   "execution_count": 38,
   "metadata": {},
   "outputs": [
    {
     "name": "stdout",
     "output_type": "stream",
     "text": [
      "1375\n"
     ]
    }
   ],
   "source": [
    "print(len(df1['comment_text']))"
   ]
  },
  {
   "cell_type": "code",
   "execution_count": 40,
   "metadata": {},
   "outputs": [
    {
     "name": "stdout",
     "output_type": "stream",
     "text": [
      "1375\n"
     ]
    }
   ],
   "source": [
    "print(len(df1['negative']))"
   ]
  },
  {
   "cell_type": "code",
   "execution_count": 41,
   "metadata": {},
   "outputs": [
    {
     "name": "stdout",
     "output_type": "stream",
     "text": [
      "                comment_by   comment_text          comment_date  likes_count  \\\n",
      "46               gaming EX            Lol  2020-03-26T18:13:20Z            0   \n",
      "518              MiguelPpM      Brilliant  2016-05-04T21:46:14Z            0   \n",
      "666          Blast Zephera        awesome  2015-11-15T17:07:11Z            0   \n",
      "705  Pierre-Xavier FILLEUL           Nice  2015-11-11T09:38:09Z            0   \n",
      "779               h Grewal  amazing!!!!!!  2015-11-08T06:45:13Z            0   \n",
      "\n",
      "     Negative  Neutral  Positive  negative  neutral  positive  \n",
      "46        0.0      0.0       1.0       0.0      0.0       1.0  \n",
      "518       0.0      0.0       1.0       0.0      0.0       1.0  \n",
      "666       0.0      0.0       1.0       0.0      0.0       1.0  \n",
      "705       0.0      0.0       1.0       0.0      0.0       1.0  \n",
      "779       0.0      0.0       1.0       0.0      0.0       1.0  \n"
     ]
    }
   ],
   "source": [
    "print(df1.nlargest(5, ['positive']))"
   ]
  },
  {
   "cell_type": "code",
   "execution_count": 45,
   "metadata": {},
   "outputs": [
    {
     "name": "stdout",
     "output_type": "stream",
     "text": [
      "df1 \n",
      " positive % = 13.666109090909092 \n",
      " negative % = 3.8584 \n",
      " neutral % = 82.47447272727271\n"
     ]
    }
   ],
   "source": [
    "#https://www.geeksforgeeks.org/data-visualization-different-charts-python/\n",
    "#A pie chart represents numbers in percentages, and the total sum of all segments needs to equal 100%\n",
    "#bar chart of 2 bars\n",
    "#x axis = video's neg and pos averages\n",
    "#y axis = average score values\n",
    "\n",
    "\n",
    "posavgpercentage1 = pos_avg1*100\n",
    "negavgpercentage1 = neg_avg1*100\n",
    "neuavgpercentage1 = neu_avg1*100\n",
    "\n",
    "print('df1 \\n positive % = {} \\n negative % = {} \\n neutral % = {}'.format(posavgpercentage1, negavgpercentage1, neuavgpercentage1))"
   ]
  },
  {
   "cell_type": "code",
   "execution_count": 46,
   "metadata": {},
   "outputs": [
    {
     "name": "stdout",
     "output_type": "stream",
     "text": [
      "df1 \n",
      " positive % = 96.1405818181818 \n",
      " negative % = 3.8584\n"
     ]
    }
   ],
   "source": [
    "print('df1 \\n positive % = {} \\n negative % = {}'.format(posavgpercentage1 + neuavgpercentage1, negavgpercentage1))"
   ]
  },
  {
   "cell_type": "code",
   "execution_count": 47,
   "metadata": {},
   "outputs": [
    {
     "data": {
      "image/png": "[encoded data removed]",
      "text/plain": [
       "<Figure size 640x480 with 1 Axes>"
      ]
     },
     "metadata": {},
     "output_type": "display_data"
    }
   ],
   "source": [
    "import matplotlib.pyplot as plt\n",
    "\n",
    "labels = ['Positive ['+str(posavgpercentage1)+'%]', 'Negative ['+str(negavgpercentage1)+'%]', 'Neutral ['+str(neuavgpercentage1)+'%]']\n",
    "sizes = [posavgpercentage1, negavgpercentage1, neuavgpercentage1]\n",
    "colors = ['blue','red', 'purple']\n",
    "patches, texts = plt.pie(sizes, colors=colors, startangle=90)\n",
    "plt.legend(patches,labels,loc=\"best\")\n",
    "\n",
    "plt.title(\"df1 results/crashcourse/_O2sg-PGhEg.json\") \n",
    "\n",
    "#def dump() function to extract video_title and use video_title to name csv file of comments of your own code\n",
    "\n",
    "plt.axis('equal')\n",
    "plt.tight_layout()\n",
    "plt.show()"
   ]
  },
  {
   "cell_type": "code",
   "execution_count": 48,
   "metadata": {},
   "outputs": [
    {
     "data": {
      "image/png": "[encoded data removed]",
      "text/plain": [
       "<Figure size 640x480 with 1 Axes>"
      ]
     },
     "metadata": {},
     "output_type": "display_data"
    }
   ],
   "source": [
    "posavgpercentage2 = pos_avg2*100\n",
    "negavgpercentage2 = neg_avg2*100\n",
    "neuavgpercentage2 = neu_avg2*100\n",
    "\n",
    "labels = ['Positive ['+str(posavgpercentage2)+'%]', 'Negative ['+str(negavgpercentage2)+'%]', 'Neutral ['+str(neuavgpercentage2)+'%]']\n",
    "sizes = [posavgpercentage2, negavgpercentage2, neuavgpercentage2]\n",
    "colors = ['blue','red', 'purple']\n",
    "patches, texts = plt.pie(sizes, colors=colors, startangle=90)\n",
    "plt.legend(patches,labels,loc=\"best\")\n",
    "\n",
    "plt.title(\"df2 results/crashcourse/_tULRch1PRQ.json\") \n",
    "\n",
    "#def dump() function to extract video_title and use video_title to name csv file of comments of your own code\n",
    "\n",
    "plt.axis('equal')\n",
    "plt.tight_layout()\n",
    "plt.show()"
   ]
  },
  {
   "cell_type": "code",
   "execution_count": 50,
   "metadata": {},
   "outputs": [
    {
     "name": "stdout",
     "output_type": "stream",
     "text": [
      "😀\n",
      "👍\n"
     ]
    }
   ],
   "source": [
    "#https://pypi.org/project/emoji/\n",
    "#https://unicode.org/emoji/charts/full-emoji-list.html\n",
    "\n",
    "import emoji\n",
    "print(emoji.emojize(':grinning_face:')) \n",
    "print(emoji.emojize(':thumbs_up:'))"
   ]
  },
  {
   "cell_type": "code",
   "execution_count": 58,
   "metadata": {},
   "outputs": [
    {
     "data": {
      "image/png": "[encoded data removed]",
      "text/plain": [
       "<Figure size 640x480 with 1 Axes>"
      ]
     },
     "metadata": {},
     "output_type": "display_data"
    }
   ],
   "source": [
    "labels = [emoji.emojize(':grinning_face:'), emoji.emojize(':neutral_face:'), emoji.emojize(':frowning_face:')]\n",
    "sizes = [posavgpercentage1, neuavgpercentage1, negavgpercentage1]\n",
    "colors = ['blue', 'purple', 'red']\n",
    "patches, texts = plt.pie(sizes, colors=colors, startangle=90)\n",
    "plt.legend(patches,labels,loc=\"best\")\n",
    "\n",
    "plt.title(\"df1 results/crashcourse/_O2sg-PGhEg.json\") \n",
    "\n",
    "plt.axis('equal')\n",
    "plt.tight_layout()\n",
    "plt.show()"
   ]
  },
  {
   "cell_type": "code",
   "execution_count": 60,
   "metadata": {},
   "outputs": [
    {
     "data": {
      "image/png": "[encoded data removed]",
      "text/plain": [
       "<Figure size 640x480 with 1 Axes>"
      ]
     },
     "metadata": {},
     "output_type": "display_data"
    }
   ],
   "source": [
    "labels = [emoji.emojize(':smiling_face:'), emoji.emojize(':neutral_face:'), emoji.emojize(':frowning_face:')]\n",
    "sizes = [posavgpercentage2, neuavgpercentage2, negavgpercentage2]\n",
    "colors = ['blue', 'purple', 'red']\n",
    "patches, texts = plt.pie(sizes, colors=colors, startangle=90)\n",
    "plt.legend(patches,labels,loc=\"best\")\n",
    "\n",
    "plt.title(\"df2 results/crashcourse/_tULRch1PRQ.json\") \n",
    "\n",
    "plt.axis('equal')\n",
    "plt.tight_layout()\n",
    "plt.show()"
   ]
  },
  {
   "cell_type": "code",
   "execution_count": null,
   "metadata": {},
   "outputs": [],
   "source": []
  }
 ],
 "metadata": {
  "kernelspec": {
   "display_name": "Python 3.9.13 ('.venv': venv)",
   "language": "python",
   "name": "python3"
  },
  "language_info": {
   "codemirror_mode": {
    "name": "ipython",
    "version": 3
   },
   "file_extension": ".py",
   "mimetype": "text/x-python",
   "name": "python",
   "nbconvert_exporter": "python",
   "pygments_lexer": "ipython3",
   "version": "3.9.13"
  },
  "orig_nbformat": 4,
  "vscode": {
   "interpreter": {
    "hash": "b52c38fc9cc1debdf8d76a081e411b75b266f8c9c62e44f6df99918effc85be8"
   }
  }
 },
 "nbformat": 4,
 "nbformat_minor": 2
}
