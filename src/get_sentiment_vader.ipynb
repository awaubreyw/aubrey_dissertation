{
 "cells": [
  {
   "cell_type": "code",
   "execution_count": 1,
   "metadata": {},
   "outputs": [],
   "source": [
    "# CREDITS\n",
    "#https://www.youtube.com/watch?v=7azmUg6XZA0 Open Source Student vaderSentiment and pandas video\n",
    "#https://www.youtube.com/playlist?list=PL-osiE80TeTsWmV9i9c58mdDCSskIFdDS Corey Schafer pandas playlist videos\n",
    "#https://neptune.ai/blog/sentiment-analysis-python-textblob-vs-vader-vs-flair\n",
    "\n",
    "# CITE \n",
    "#Hutto, C.J. & Gilbert, E.E. (2014). VADER: A Parsimonious Rule-based Model for Sentiment Analysis of Social Media Text. Eighth International Conference on Weblogs and Social Media (ICWSM-14). Ann Arbor, MI, June 2014.\n",
    "\n",
    "from vaderSentiment.vaderSentiment import SentimentIntensityAnalyzer\n",
    "import json\n",
    "import pandas as pd\n",
    "#from app.py import channel_name_chosen"
   ]
  },
  {
   "cell_type": "code",
   "execution_count": 2,
   "metadata": {},
   "outputs": [],
   "source": [
    "#with open('results/khanacademy/_b-2rZpX5z4.json', 'r') as f:\n",
    "    #df = json.load(f)\n",
    "\n",
    "#COMPARE BETWEEN 2 VIDEOS TO START OFF THE SENTIMENT ANALYSIS MODEL  \n",
    "df1 = pd.read_json('results/crashcourse/_O2sg-PGhEg.json')\n",
    "\n",
    "df2 = pd.read_json('results/crashcourse/_tULRch1PRQ.json')\n",
    "\n",
    "#AUTOMATE\n",
    "#for video_id in video_ids_{channel_name_chosen}.json:\n",
    "#   df = pd.read_json(f'results/{channel_name_chosen}/{video_id}.json')\n",
    "#   if some json files with those video_ids do not exist, continue to the next (eg. 492 files in crashcourse folder instead of 1,439 videos on crashcourse youtube channel)"
   ]
  },
  {
   "cell_type": "code",
   "execution_count": 4,
   "metadata": {},
   "outputs": [
    {
     "data": {
      "text/html": [
       "<div>\n",
       "<style scoped>\n",
       "    .dataframe tbody tr th:only-of-type {\n",
       "        vertical-align: middle;\n",
       "    }\n",
       "\n",
       "    .dataframe tbody tr th {\n",
       "        vertical-align: top;\n",
       "    }\n",
       "\n",
       "    .dataframe thead th {\n",
       "        text-align: right;\n",
       "    }\n",
       "</style>\n",
       "<table border=\"1\" class=\"dataframe\">\n",
       "  <thead>\n",
       "    <tr style=\"text-align: right;\">\n",
       "      <th></th>\n",
       "      <th>comment_by</th>\n",
       "      <th>comment_text</th>\n",
       "      <th>comment_date</th>\n",
       "      <th>likes_count</th>\n",
       "    </tr>\n",
       "  </thead>\n",
       "  <tbody>\n",
       "    <tr>\n",
       "      <th>0</th>\n",
       "      <td>sam JD</td>\n",
       "      <td>awesome host.. thank u so much</td>\n",
       "      <td>2022-07-14T09:38:00Z</td>\n",
       "      <td>1</td>\n",
       "    </tr>\n",
       "    <tr>\n",
       "      <th>1</th>\n",
       "      <td>Franzi Z</td>\n",
       "      <td>I love this series more with every episode I w...</td>\n",
       "      <td>2020-06-18T17:26:03Z</td>\n",
       "      <td>4</td>\n",
       "    </tr>\n",
       "    <tr>\n",
       "      <th>2</th>\n",
       "      <td>Wade Allen</td>\n",
       "      <td>When I see images or renderings of super clust...</td>\n",
       "      <td>2020-06-17T17:46:52Z</td>\n",
       "      <td>0</td>\n",
       "    </tr>\n",
       "    <tr>\n",
       "      <th>3</th>\n",
       "      <td>Susurrus</td>\n",
       "      <td>It&amp;#39;s kinda like a video game where you try...</td>\n",
       "      <td>2020-06-10T12:41:45Z</td>\n",
       "      <td>1</td>\n",
       "    </tr>\n",
       "    <tr>\n",
       "      <th>4</th>\n",
       "      <td>Eugene Scott</td>\n",
       "      <td>Can someone shed some light on why a super mas...</td>\n",
       "      <td>2020-06-06T00:10:48Z</td>\n",
       "      <td>0</td>\n",
       "    </tr>\n",
       "  </tbody>\n",
       "</table>\n",
       "</div>"
      ],
      "text/plain": [
       "     comment_by                                       comment_text  \\\n",
       "0        sam JD                     awesome host.. thank u so much   \n",
       "1      Franzi Z  I love this series more with every episode I w...   \n",
       "2    Wade Allen  When I see images or renderings of super clust...   \n",
       "3      Susurrus  It&#39;s kinda like a video game where you try...   \n",
       "4  Eugene Scott  Can someone shed some light on why a super mas...   \n",
       "\n",
       "           comment_date  likes_count  \n",
       "0  2022-07-14T09:38:00Z            1  \n",
       "1  2020-06-18T17:26:03Z            4  \n",
       "2  2020-06-17T17:46:52Z            0  \n",
       "3  2020-06-10T12:41:45Z            1  \n",
       "4  2020-06-06T00:10:48Z            0  "
      ]
     },
     "execution_count": 4,
     "metadata": {},
     "output_type": "execute_result"
    }
   ],
   "source": [
    "df1.head()"
   ]
  },
  {
   "cell_type": "code",
   "execution_count": 5,
   "metadata": {},
   "outputs": [
    {
     "data": {
      "text/html": [
       "<div>\n",
       "<style scoped>\n",
       "    .dataframe tbody tr th:only-of-type {\n",
       "        vertical-align: middle;\n",
       "    }\n",
       "\n",
       "    .dataframe tbody tr th {\n",
       "        vertical-align: top;\n",
       "    }\n",
       "\n",
       "    .dataframe thead th {\n",
       "        text-align: right;\n",
       "    }\n",
       "</style>\n",
       "<table border=\"1\" class=\"dataframe\">\n",
       "  <thead>\n",
       "    <tr style=\"text-align: right;\">\n",
       "      <th></th>\n",
       "      <th>comment_by</th>\n",
       "      <th>comment_text</th>\n",
       "      <th>comment_date</th>\n",
       "      <th>likes_count</th>\n",
       "    </tr>\n",
       "  </thead>\n",
       "  <tbody>\n",
       "    <tr>\n",
       "      <th>0</th>\n",
       "      <td>Rich Invents</td>\n",
       "      <td>Excellent video, very informative.  ONE sugges...</td>\n",
       "      <td>2022-08-15T14:58:30Z</td>\n",
       "      <td>0</td>\n",
       "    </tr>\n",
       "    <tr>\n",
       "      <th>1</th>\n",
       "      <td>F Wily</td>\n",
       "      <td>Talk faster, you are too slow. I only have a 3...</td>\n",
       "      <td>2020-05-16T14:55:28Z</td>\n",
       "      <td>4</td>\n",
       "    </tr>\n",
       "    <tr>\n",
       "      <th>2</th>\n",
       "      <td>Sedat Ayyıldız</td>\n",
       "      <td>I like your academic and scientific jokes :))</td>\n",
       "      <td>2020-05-06T10:26:24Z</td>\n",
       "      <td>1</td>\n",
       "    </tr>\n",
       "    <tr>\n",
       "      <th>3</th>\n",
       "      <td>Eva Lynn</td>\n",
       "      <td>This mans hilarious</td>\n",
       "      <td>2020-04-28T09:52:08Z</td>\n",
       "      <td>0</td>\n",
       "    </tr>\n",
       "    <tr>\n",
       "      <th>4</th>\n",
       "      <td>Timothy Little</td>\n",
       "      <td>The best way to rob a bank is to own one</td>\n",
       "      <td>2020-04-09T07:37:44Z</td>\n",
       "      <td>1</td>\n",
       "    </tr>\n",
       "  </tbody>\n",
       "</table>\n",
       "</div>"
      ],
      "text/plain": [
       "       comment_by                                       comment_text  \\\n",
       "0    Rich Invents  Excellent video, very informative.  ONE sugges...   \n",
       "1          F Wily  Talk faster, you are too slow. I only have a 3...   \n",
       "2  Sedat Ayyıldız      I like your academic and scientific jokes :))   \n",
       "3        Eva Lynn                                This mans hilarious   \n",
       "4  Timothy Little           The best way to rob a bank is to own one   \n",
       "\n",
       "           comment_date  likes_count  \n",
       "0  2022-08-15T14:58:30Z            0  \n",
       "1  2020-05-16T14:55:28Z            4  \n",
       "2  2020-05-06T10:26:24Z            1  \n",
       "3  2020-04-28T09:52:08Z            0  \n",
       "4  2020-04-09T07:37:44Z            1  "
      ]
     },
     "execution_count": 5,
     "metadata": {},
     "output_type": "execute_result"
    }
   ],
   "source": [
    "df2.head()"
   ]
  },
  {
   "cell_type": "code",
   "execution_count": 3,
   "metadata": {},
   "outputs": [],
   "source": [
    "# CITE \n",
    "#Hutto, C.J. & Gilbert, E.E. (2014). VADER: A Parsimonious Rule-based Model for Sentiment Analysis of Social Media Text. Eighth International Conference on Weblogs and Social Media (ICWSM-14). Ann Arbor, MI, June 2014.\n",
    "\n",
    "analyzer = SentimentIntensityAnalyzer()\n",
    "positive1 = []\n",
    "negative1 = []\n",
    "neutral1 = []\n",
    "compound1 = []\n",
    "sentiment1 = []\n",
    "\n",
    "positive2 = []\n",
    "negative2 = []\n",
    "neutral2 = []\n",
    "compound2 = []\n",
    "sentiment2 = []"
   ]
  },
  {
   "cell_type": "code",
   "execution_count": 4,
   "metadata": {},
   "outputs": [],
   "source": [
    "#for line in df['Comment']:\n",
    "for line in range(df1.shape[0]): \n",
    "#range() method returns total number or length or indexes of 2d array data's rows [0] or data's columns [1]\n",
    "#use df.shape[0] to only loop through rows while shape[1] gives columns\n",
    "\n",
    "    comments = df1.iloc[line, 1] #iloc returns the value of looped lines/rows of the first[1] column 'Comment' key index\n",
    "    #print(comments)\n",
    "    comments_analyzed = analyzer.polarity_scores(comments)\n",
    "    #print(comments_analyzed)\n",
    "    #print(\"{:-<65} {}\".format(comments, str(comments_analyzed)))\n",
    "    \n",
    "    if comments_analyzed[\"compound\"] >= 0.05:\n",
    "        sentiment = 'positive'\n",
    "    elif comments_analyzed[\"compound\"] <= -0.05:\n",
    "        sentiment = 'negative'\n",
    "    else:\n",
    "        sentiment = 'neutral'\n",
    "    \n",
    "    #if comments_analyzed[\"compound\"] >= 0:\n",
    "        #sentiment = 'positive'\n",
    "    #else:\n",
    "        #sentiment = 'negative'\n",
    "\n",
    "#RUN ONCE\n",
    "    negative1.append(comments_analyzed[\"neg\"])\n",
    "    #negative += comments_analyzed[\"neg\"] is not suitable for this\n",
    "\n",
    "    positive1.append(comments_analyzed[\"pos\"])\n",
    "    #print(positive)\n",
    "\n",
    "    neutral1.append(comments_analyzed[\"neu\"])\n",
    "    #print(neutral)\n",
    "\n",
    "    compound1.append(comments_analyzed[\"compound\"])\n",
    "    #print(compound)\n",
    "\n",
    "    sentiment1.append(sentiment)\n",
    "\n",
    "     "
   ]
  },
  {
   "cell_type": "code",
   "execution_count": 5,
   "metadata": {},
   "outputs": [],
   "source": [
    "#for line in df['Comment']:\n",
    "for line in range(df2.shape[0]): \n",
    "#range() method returns total number or length or indexes of 2d array data's rows [0] or data's columns [1]\n",
    "#use df.shape[0] to only loop through rows while shape[1] gives columns\n",
    "\n",
    "    comments = df2.iloc[line, 1] #iloc returns the value of looped lines/rows of the first[1] column 'Comment' key index\n",
    "    #print(comments)\n",
    "    comments_analyzed = analyzer.polarity_scores(comments)\n",
    "    #print(comments_analyzed)\n",
    "    #print(\"{:-<65} {}\".format(comments, str(comments_analyzed)))\n",
    "    \n",
    "    if comments_analyzed[\"compound\"] >= 0.05:\n",
    "        sentiment = 'positive'\n",
    "    elif comments_analyzed[\"compound\"] <= -0.05:\n",
    "        sentiment = 'negative'\n",
    "    else:\n",
    "        sentiment = 'neutral'\n",
    "\n",
    "    #if comments_analyzed[\"compound\"] >= 0:\n",
    "        #sentiment = 'positive'\n",
    "    #else:\n",
    "        #sentiment = 'negative'\n",
    "\n",
    "\n",
    "#RUN ONCE\n",
    "    negative2.append(comments_analyzed[\"neg\"])\n",
    "    #negative += comments_analyzed[\"neg\"] is not suitable for this\n",
    "\n",
    "    positive2.append(comments_analyzed[\"pos\"])\n",
    "    #print(positive)\n",
    "\n",
    "    neutral2.append(comments_analyzed[\"neu\"])\n",
    "    #print(neutral)\n",
    "\n",
    "    compound2.append(comments_analyzed[\"compound\"])\n",
    "    #print(compound)\n",
    "\n",
    "    sentiment2.append(sentiment)"
   ]
  },
  {
   "cell_type": "markdown",
   "metadata": {},
   "source": [
    "cross checking"
   ]
  },
  {
   "cell_type": "code",
   "execution_count": 6,
   "metadata": {},
   "outputs": [
    {
     "data": {
      "text/plain": [
       "(1375, 4)"
      ]
     },
     "execution_count": 6,
     "metadata": {},
     "output_type": "execute_result"
    }
   ],
   "source": [
    "df1.shape"
   ]
  },
  {
   "cell_type": "code",
   "execution_count": 6,
   "metadata": {},
   "outputs": [
    {
     "data": {
      "text/plain": [
       "1375"
      ]
     },
     "execution_count": 6,
     "metadata": {},
     "output_type": "execute_result"
    }
   ],
   "source": [
    "len(negative1)"
   ]
  },
  {
   "cell_type": "code",
   "execution_count": 7,
   "metadata": {},
   "outputs": [
    {
     "data": {
      "text/plain": [
       "(222, 4)"
      ]
     },
     "execution_count": 7,
     "metadata": {},
     "output_type": "execute_result"
    }
   ],
   "source": [
    "df2.shape"
   ]
  },
  {
   "cell_type": "code",
   "execution_count": 8,
   "metadata": {},
   "outputs": [
    {
     "data": {
      "text/plain": [
       "222"
      ]
     },
     "execution_count": 8,
     "metadata": {},
     "output_type": "execute_result"
    }
   ],
   "source": [
    "len(negative2)"
   ]
  },
  {
   "cell_type": "code",
   "execution_count": 20,
   "metadata": {},
   "outputs": [],
   "source": [
    "#compare visualization graph of averages of 1 video to commentaire's graph of same video\n",
    "#total of neg / total rows = avg of neg\n",
    "#neutral + positive = positive\n",
    "\n",
    "#word cloud \n",
    "#combine words from all positive comments from all videos of channel list"
   ]
  },
  {
   "cell_type": "code",
   "execution_count": 9,
   "metadata": {},
   "outputs": [
    {
     "data": {
      "text/plain": [
       "Index(['comment_by', 'comment_text', 'comment_date', 'likes_count'], dtype='object')"
      ]
     },
     "execution_count": 9,
     "metadata": {},
     "output_type": "execute_result"
    }
   ],
   "source": [
    "df1.columns"
   ]
  },
  {
   "cell_type": "code",
   "execution_count": 11,
   "metadata": {},
   "outputs": [
    {
     "data": {
      "text/plain": [
       "Index(['comment_by', 'comment_text', 'comment_date', 'likes_count'], dtype='object')"
      ]
     },
     "execution_count": 11,
     "metadata": {},
     "output_type": "execute_result"
    }
   ],
   "source": [
    "df2.columns"
   ]
  },
  {
   "cell_type": "code",
   "execution_count": 6,
   "metadata": {},
   "outputs": [
    {
     "name": "stdout",
     "output_type": "stream",
     "text": [
      "0.038584\n",
      "0.8247447272727272\n",
      "0.13666109090909093\n",
      "0.18707592727272726\n"
     ]
    }
   ],
   "source": [
    "#add new columns to df1\n",
    "\n",
    "\n",
    "#add new columns and their values to dataframe version of json\n",
    "df1[\"negative\"] = negative1 #create and add new column named Negative\n",
    "df1[\"neutral\"] = neutral1\n",
    "df1[\"positive\"] = positive1\n",
    "df1[\"compound\"] = compound1\n",
    "df1[\"sentiment\"] = sentiment1\n",
    "\n",
    "#pd.set_option('display.max_columns', None)\n",
    "#print(df.head())\n",
    "\n",
    "\n",
    "#print(df1.nlargest(5, ['Negative']))\n",
    "#print(df1.nlargest(5, ['Neutral']))\n",
    "#print(df1.nlargest(5, ['Positive']))\n",
    "\n",
    "\n",
    "#average sentiment scores of 1st video comments\n",
    "neg_avg1 = df1['negative'].mean()\n",
    "print(neg_avg1)\n",
    "\n",
    "neu_avg1 = df1['neutral'].mean()\n",
    "print(neu_avg1)\n",
    "\n",
    "pos_avg1 = df1['positive'].mean()\n",
    "print(pos_avg1)\n",
    "\n",
    "compound_avg1 = df1['compound'].mean()\n",
    "print(compound_avg1)\n"
   ]
  },
  {
   "cell_type": "code",
   "execution_count": 7,
   "metadata": {},
   "outputs": [
    {
     "name": "stdout",
     "output_type": "stream",
     "text": [
      "0.08393693693693693\n",
      "0.7655900900900902\n",
      "0.1504864864864865\n",
      "0.12650900900900902\n"
     ]
    }
   ],
   "source": [
    "#add new columns to df2\n",
    "\n",
    "\n",
    "#add new columns and their values to dataframe version of json\n",
    "df2[\"negative\"] = negative2 #create and add new column named Negative\n",
    "df2[\"neutral\"] = neutral2\n",
    "df2[\"positive\"] = positive2\n",
    "df2[\"compound\"] = compound2\n",
    "df2[\"sentiment\"] = sentiment2\n",
    "\n",
    "#pd.set_option('display.max_columns', None)\n",
    "#print(df.head())\n",
    "\n",
    "\n",
    "#print(df1.nlargest(5, ['Negative']))\n",
    "#print(df1.nlargest(5, ['Neutral']))\n",
    "#print(df1.nlargest(5, ['Positive']))\n",
    "\n",
    "\n",
    "#average sentiment scores of 1st video comments\n",
    "neg_avg2 = df2['negative'].mean()\n",
    "print(neg_avg2)\n",
    "\n",
    "neu_avg2 = df2['neutral'].mean()\n",
    "print(neu_avg2)\n",
    "\n",
    "pos_avg2 = df2['positive'].mean()\n",
    "print(pos_avg2)\n",
    "\n",
    "compound_avg2 = df2['compound'].mean()\n",
    "print(compound_avg2)"
   ]
  },
  {
   "cell_type": "code",
   "execution_count": 10,
   "metadata": {},
   "outputs": [
    {
     "data": {
      "text/html": [
       "<div>\n",
       "<style scoped>\n",
       "    .dataframe tbody tr th:only-of-type {\n",
       "        vertical-align: middle;\n",
       "    }\n",
       "\n",
       "    .dataframe tbody tr th {\n",
       "        vertical-align: top;\n",
       "    }\n",
       "\n",
       "    .dataframe thead th {\n",
       "        text-align: right;\n",
       "    }\n",
       "</style>\n",
       "<table border=\"1\" class=\"dataframe\">\n",
       "  <thead>\n",
       "    <tr style=\"text-align: right;\">\n",
       "      <th></th>\n",
       "      <th>comment_by</th>\n",
       "      <th>comment_text</th>\n",
       "      <th>comment_date</th>\n",
       "      <th>likes_count</th>\n",
       "      <th>negative</th>\n",
       "      <th>neutral</th>\n",
       "      <th>positive</th>\n",
       "      <th>compound</th>\n",
       "      <th>sentiment</th>\n",
       "    </tr>\n",
       "  </thead>\n",
       "  <tbody>\n",
       "    <tr>\n",
       "      <th>0</th>\n",
       "      <td>sam JD</td>\n",
       "      <td>awesome host.. thank u so much</td>\n",
       "      <td>2022-07-14T09:38:00Z</td>\n",
       "      <td>1</td>\n",
       "      <td>0.000</td>\n",
       "      <td>0.377</td>\n",
       "      <td>0.623</td>\n",
       "      <td>0.7650</td>\n",
       "      <td>positive</td>\n",
       "    </tr>\n",
       "    <tr>\n",
       "      <th>1</th>\n",
       "      <td>Franzi Z</td>\n",
       "      <td>I love this series more with every episode I w...</td>\n",
       "      <td>2020-06-18T17:26:03Z</td>\n",
       "      <td>4</td>\n",
       "      <td>0.000</td>\n",
       "      <td>0.499</td>\n",
       "      <td>0.501</td>\n",
       "      <td>0.9440</td>\n",
       "      <td>positive</td>\n",
       "    </tr>\n",
       "    <tr>\n",
       "      <th>2</th>\n",
       "      <td>Wade Allen</td>\n",
       "      <td>When I see images or renderings of super clust...</td>\n",
       "      <td>2020-06-17T17:46:52Z</td>\n",
       "      <td>0</td>\n",
       "      <td>0.042</td>\n",
       "      <td>0.887</td>\n",
       "      <td>0.071</td>\n",
       "      <td>0.5396</td>\n",
       "      <td>positive</td>\n",
       "    </tr>\n",
       "    <tr>\n",
       "      <th>3</th>\n",
       "      <td>Susurrus</td>\n",
       "      <td>It&amp;#39;s kinda like a video game where you try...</td>\n",
       "      <td>2020-06-10T12:41:45Z</td>\n",
       "      <td>1</td>\n",
       "      <td>0.057</td>\n",
       "      <td>0.698</td>\n",
       "      <td>0.245</td>\n",
       "      <td>0.8821</td>\n",
       "      <td>positive</td>\n",
       "    </tr>\n",
       "    <tr>\n",
       "      <th>4</th>\n",
       "      <td>Eugene Scott</td>\n",
       "      <td>Can someone shed some light on why a super mas...</td>\n",
       "      <td>2020-06-06T00:10:48Z</td>\n",
       "      <td>0</td>\n",
       "      <td>0.084</td>\n",
       "      <td>0.760</td>\n",
       "      <td>0.156</td>\n",
       "      <td>0.4215</td>\n",
       "      <td>positive</td>\n",
       "    </tr>\n",
       "  </tbody>\n",
       "</table>\n",
       "</div>"
      ],
      "text/plain": [
       "     comment_by                                       comment_text  \\\n",
       "0        sam JD                     awesome host.. thank u so much   \n",
       "1      Franzi Z  I love this series more with every episode I w...   \n",
       "2    Wade Allen  When I see images or renderings of super clust...   \n",
       "3      Susurrus  It&#39;s kinda like a video game where you try...   \n",
       "4  Eugene Scott  Can someone shed some light on why a super mas...   \n",
       "\n",
       "           comment_date  likes_count  negative  neutral  positive  compound  \\\n",
       "0  2022-07-14T09:38:00Z            1     0.000    0.377     0.623    0.7650   \n",
       "1  2020-06-18T17:26:03Z            4     0.000    0.499     0.501    0.9440   \n",
       "2  2020-06-17T17:46:52Z            0     0.042    0.887     0.071    0.5396   \n",
       "3  2020-06-10T12:41:45Z            1     0.057    0.698     0.245    0.8821   \n",
       "4  2020-06-06T00:10:48Z            0     0.084    0.760     0.156    0.4215   \n",
       "\n",
       "  sentiment  \n",
       "0  positive  \n",
       "1  positive  \n",
       "2  positive  \n",
       "3  positive  \n",
       "4  positive  "
      ]
     },
     "execution_count": 10,
     "metadata": {},
     "output_type": "execute_result"
    }
   ],
   "source": [
    "df1.head()"
   ]
  },
  {
   "cell_type": "code",
   "execution_count": 13,
   "metadata": {},
   "outputs": [
    {
     "data": {
      "text/html": [
       "<div>\n",
       "<style scoped>\n",
       "    .dataframe tbody tr th:only-of-type {\n",
       "        vertical-align: middle;\n",
       "    }\n",
       "\n",
       "    .dataframe tbody tr th {\n",
       "        vertical-align: top;\n",
       "    }\n",
       "\n",
       "    .dataframe thead th {\n",
       "        text-align: right;\n",
       "    }\n",
       "</style>\n",
       "<table border=\"1\" class=\"dataframe\">\n",
       "  <thead>\n",
       "    <tr style=\"text-align: right;\">\n",
       "      <th></th>\n",
       "      <th>comment_by</th>\n",
       "      <th>comment_text</th>\n",
       "      <th>comment_date</th>\n",
       "      <th>likes_count</th>\n",
       "      <th>negative</th>\n",
       "      <th>neutral</th>\n",
       "      <th>positive</th>\n",
       "      <th>compound</th>\n",
       "      <th>sentiment</th>\n",
       "    </tr>\n",
       "  </thead>\n",
       "  <tbody>\n",
       "    <tr>\n",
       "      <th>0</th>\n",
       "      <td>Rich Invents</td>\n",
       "      <td>Excellent video, very informative.  ONE sugges...</td>\n",
       "      <td>2022-08-15T14:58:30Z</td>\n",
       "      <td>0</td>\n",
       "      <td>0.027</td>\n",
       "      <td>0.764</td>\n",
       "      <td>0.209</td>\n",
       "      <td>0.8687</td>\n",
       "      <td>positive</td>\n",
       "    </tr>\n",
       "    <tr>\n",
       "      <th>1</th>\n",
       "      <td>F Wily</td>\n",
       "      <td>Talk faster, you are too slow. I only have a 3...</td>\n",
       "      <td>2020-05-16T14:55:28Z</td>\n",
       "      <td>4</td>\n",
       "      <td>0.000</td>\n",
       "      <td>1.000</td>\n",
       "      <td>0.000</td>\n",
       "      <td>0.0000</td>\n",
       "      <td>neutral</td>\n",
       "    </tr>\n",
       "    <tr>\n",
       "      <th>2</th>\n",
       "      <td>Sedat Ayyıldız</td>\n",
       "      <td>I like your academic and scientific jokes :))</td>\n",
       "      <td>2020-05-06T10:26:24Z</td>\n",
       "      <td>1</td>\n",
       "      <td>0.000</td>\n",
       "      <td>0.571</td>\n",
       "      <td>0.429</td>\n",
       "      <td>0.5423</td>\n",
       "      <td>positive</td>\n",
       "    </tr>\n",
       "    <tr>\n",
       "      <th>3</th>\n",
       "      <td>Eva Lynn</td>\n",
       "      <td>This mans hilarious</td>\n",
       "      <td>2020-04-28T09:52:08Z</td>\n",
       "      <td>0</td>\n",
       "      <td>0.000</td>\n",
       "      <td>0.426</td>\n",
       "      <td>0.574</td>\n",
       "      <td>0.4019</td>\n",
       "      <td>positive</td>\n",
       "    </tr>\n",
       "    <tr>\n",
       "      <th>4</th>\n",
       "      <td>Timothy Little</td>\n",
       "      <td>The best way to rob a bank is to own one</td>\n",
       "      <td>2020-04-09T07:37:44Z</td>\n",
       "      <td>1</td>\n",
       "      <td>0.214</td>\n",
       "      <td>0.536</td>\n",
       "      <td>0.250</td>\n",
       "      <td>0.1531</td>\n",
       "      <td>positive</td>\n",
       "    </tr>\n",
       "  </tbody>\n",
       "</table>\n",
       "</div>"
      ],
      "text/plain": [
       "       comment_by                                       comment_text  \\\n",
       "0    Rich Invents  Excellent video, very informative.  ONE sugges...   \n",
       "1          F Wily  Talk faster, you are too slow. I only have a 3...   \n",
       "2  Sedat Ayyıldız      I like your academic and scientific jokes :))   \n",
       "3        Eva Lynn                                This mans hilarious   \n",
       "4  Timothy Little           The best way to rob a bank is to own one   \n",
       "\n",
       "           comment_date  likes_count  negative  neutral  positive  compound  \\\n",
       "0  2022-08-15T14:58:30Z            0     0.027    0.764     0.209    0.8687   \n",
       "1  2020-05-16T14:55:28Z            4     0.000    1.000     0.000    0.0000   \n",
       "2  2020-05-06T10:26:24Z            1     0.000    0.571     0.429    0.5423   \n",
       "3  2020-04-28T09:52:08Z            0     0.000    0.426     0.574    0.4019   \n",
       "4  2020-04-09T07:37:44Z            1     0.214    0.536     0.250    0.1531   \n",
       "\n",
       "  sentiment  \n",
       "0  positive  \n",
       "1   neutral  \n",
       "2  positive  \n",
       "3  positive  \n",
       "4  positive  "
      ]
     },
     "execution_count": 13,
     "metadata": {},
     "output_type": "execute_result"
    }
   ],
   "source": [
    "df2.head()"
   ]
  },
  {
   "cell_type": "code",
   "execution_count": 12,
   "metadata": {},
   "outputs": [
    {
     "data": {
      "text/plain": [
       "Index(['comment_by', 'comment_text', 'comment_date', 'likes_count', 'negative',\n",
       "       'neutral', 'positive', 'compound', 'sentiment'],\n",
       "      dtype='object')"
      ]
     },
     "execution_count": 12,
     "metadata": {},
     "output_type": "execute_result"
    }
   ],
   "source": [
    "df2.columns"
   ]
  },
  {
   "cell_type": "code",
   "execution_count": 15,
   "metadata": {},
   "outputs": [
    {
     "data": {
      "text/plain": [
       "Index(['comment_by', 'comment_text', 'comment_date', 'likes_count', 'negative',\n",
       "       'neutral', 'positive', 'compound', 'sentiment'],\n",
       "      dtype='object')"
      ]
     },
     "execution_count": 15,
     "metadata": {},
     "output_type": "execute_result"
    }
   ],
   "source": [
    "df1.columns"
   ]
  },
  {
   "cell_type": "code",
   "execution_count": 16,
   "metadata": {},
   "outputs": [
    {
     "name": "stdout",
     "output_type": "stream",
     "text": [
      "1375\n"
     ]
    }
   ],
   "source": [
    "print(len(df1['comment_text']))"
   ]
  },
  {
   "cell_type": "code",
   "execution_count": 17,
   "metadata": {},
   "outputs": [
    {
     "name": "stdout",
     "output_type": "stream",
     "text": [
      "1375\n"
     ]
    }
   ],
   "source": [
    "print(len(df1['negative']))"
   ]
  },
  {
   "cell_type": "code",
   "execution_count": 20,
   "metadata": {},
   "outputs": [
    {
     "name": "stdout",
     "output_type": "stream",
     "text": [
      "            comment_by                                       comment_text  \\\n",
      "6          Andrea Rupe  How many galaxies are there? Can we count them...   \n",
      "7        faze minecrft  I made the name &quot;milky shrub&quot; (searc...   \n",
      "8            fei jiang  i thought that after big bang every object is ...   \n",
      "9          jmerdur 412                                      Andromeda way   \n",
      "11  Angelina Nicholaou                                           Medalaxy   \n",
      "\n",
      "            comment_date  likes_count  negative  neutral  positive  compound  \\\n",
      "6   2020-06-02T04:46:43Z            1       0.0      1.0       0.0       0.0   \n",
      "7   2020-06-01T23:03:59Z            0       0.0      1.0       0.0       0.0   \n",
      "8   2020-06-01T04:53:04Z            1       0.0      1.0       0.0       0.0   \n",
      "9   2020-06-01T02:25:52Z            0       0.0      1.0       0.0       0.0   \n",
      "11  2020-05-28T00:44:04Z            0       0.0      1.0       0.0       0.0   \n",
      "\n",
      "   sentiment  \n",
      "6    neutral  \n",
      "7    neutral  \n",
      "8    neutral  \n",
      "9    neutral  \n",
      "11   neutral  \n"
     ]
    }
   ],
   "source": [
    "print(df1.nlargest(5, ['neutral']))"
   ]
  },
  {
   "cell_type": "code",
   "execution_count": 8,
   "metadata": {},
   "outputs": [
    {
     "name": "stdout",
     "output_type": "stream",
     "text": [
      "df1 \n",
      " positive % = 13.666109090909092 \n",
      " negative % = 3.8584 \n",
      " neutral % = 82.47447272727271 \n",
      " compound % = 18.707592727272726\n"
     ]
    }
   ],
   "source": [
    "#https://www.geeksforgeeks.org/data-visualization-different-charts-python/\n",
    "#A pie chart represents numbers in percentages, and the total sum of all segments needs to equal 100%\n",
    "#bar chart of 2 bars\n",
    "#x axis = video's neg and pos averages\n",
    "#y axis = average score values\n",
    "\n",
    "\n",
    "posavgpercentage1 = pos_avg1*100\n",
    "negavgpercentage1 = neg_avg1*100\n",
    "neuavgpercentage1 = neu_avg1*100\n",
    "compoundavgpercentage1 = compound_avg1*100\n",
    "\n",
    "print('df1 \\n positive % = {} \\n negative % = {} \\n neutral % = {} \\n compound % = {}'.format(posavgpercentage1, negavgpercentage1, neuavgpercentage1, compoundavgpercentage1))\n",
    "\n",
    "#if compoundavgpercentage1 > 50:\n",
    "#   print('df1 sentiment is positive overall')\n",
    "#elseif compoundavgpercentage1 < 50:\n",
    "#   print('df1 sentiment is negative overall')\n",
    "#else:\n",
    "#   print('df1 sentiment is neutral overall')"
   ]
  },
  {
   "cell_type": "markdown",
   "metadata": {},
   "source": [
    "# NOT ACCURATE: overall video sentiment based on the total percentages of individual positive, negative, neutral scores"
   ]
  },
  {
   "cell_type": "code",
   "execution_count": 9,
   "metadata": {},
   "outputs": [
    {
     "data": {
      "image/png": "[encoded data removed]",
      "text/plain": [
       "<Figure size 640x480 with 1 Axes>"
      ]
     },
     "metadata": {},
     "output_type": "display_data"
    }
   ],
   "source": [
    "import matplotlib.pyplot as plt\n",
    "\n",
    "labels = ['Positive ['+str(posavgpercentage1)+'%]', 'Negative ['+str(negavgpercentage1)+'%]', 'Neutral ['+str(neuavgpercentage1)+'%]']\n",
    "sizes = [posavgpercentage1, negavgpercentage1, neuavgpercentage1]\n",
    "colors = ['blue','red', 'purple']\n",
    "patches, texts = plt.pie(sizes, colors=colors, startangle=90)\n",
    "plt.legend(patches,labels,loc=\"best\")\n",
    "\n",
    "plt.title(\"df1 results/crashcourse/_O2sg-PGhEg.json\") \n",
    "\n",
    "#def dump() function to extract video_title and use video_title to name csv file of comments of your own code\n",
    "\n",
    "plt.axis('equal')\n",
    "plt.tight_layout()\n",
    "plt.show()"
   ]
  },
  {
   "cell_type": "code",
   "execution_count": 9,
   "metadata": {},
   "outputs": [
    {
     "name": "stdout",
     "output_type": "stream",
     "text": [
      "df2 \n",
      " positive % = 15.04864864864865 \n",
      " negative % = 8.393693693693693 \n",
      " neutral % = 76.55900900900902 \n",
      " compound % = 12.650900900900902\n"
     ]
    }
   ],
   "source": [
    "posavgpercentage2 = pos_avg2*100\n",
    "negavgpercentage2 = neg_avg2*100\n",
    "neuavgpercentage2 = neu_avg2*100\n",
    "compoundavgpercentage2 = compound_avg2*100\n",
    "\n",
    "print('df2 \\n positive % = {} \\n negative % = {} \\n neutral % = {} \\n compound % = {}'.format(posavgpercentage2, negavgpercentage2, neuavgpercentage2, compoundavgpercentage2))\n",
    "\n",
    "#if compoundavgpercentage2 > 50:\n",
    "#   print('df2 sentiment is positive overall')\n",
    "#elseif compoundavgpercentage2 < 50:\n",
    "#   print('df2 sentiment is negative overall')\n",
    "#else:\n",
    "#   print('df2 sentiment is neutral overall')\n",
    "\n"
   ]
  },
  {
   "cell_type": "code",
   "execution_count": 11,
   "metadata": {},
   "outputs": [
    {
     "data": {
      "image/png": "[encoded data removed]",
      "text/plain": [
       "<Figure size 640x480 with 1 Axes>"
      ]
     },
     "metadata": {},
     "output_type": "display_data"
    }
   ],
   "source": [
    "labels = ['Positive ['+str(posavgpercentage2)+'%]', 'Negative ['+str(negavgpercentage2)+'%]', 'Neutral ['+str(neuavgpercentage2)+'%]']\n",
    "sizes = [posavgpercentage2, negavgpercentage2, neuavgpercentage2]\n",
    "colors = ['blue','red', 'purple']\n",
    "patches, texts = plt.pie(sizes, colors=colors, startangle=90)\n",
    "plt.legend(patches,labels,loc=\"best\")\n",
    "\n",
    "plt.title(\"df2 results/crashcourse/_tULRch1PRQ.json\") \n",
    "\n",
    "#def dump() function to extract video_title and use video_title to name csv file of comments of your own code\n",
    "\n",
    "plt.axis('equal')\n",
    "plt.tight_layout()\n",
    "plt.show()"
   ]
  },
  {
   "cell_type": "code",
   "execution_count": 17,
   "metadata": {},
   "outputs": [
    {
     "name": "stdout",
     "output_type": "stream",
     "text": [
      "😀\n",
      "👍\n"
     ]
    }
   ],
   "source": [
    "#https://pypi.org/project/emoji/\n",
    "#https://unicode.org/emoji/charts/full-emoji-list.html\n",
    "\n",
    "import emoji\n",
    "print(emoji.emojize(':grinning_face:')) \n",
    "print(emoji.emojize(':thumbs_up:'))"
   ]
  },
  {
   "cell_type": "markdown",
   "metadata": {},
   "source": [
    "# with emojis"
   ]
  },
  {
   "cell_type": "code",
   "execution_count": 13,
   "metadata": {},
   "outputs": [
    {
     "data": {
      "image/png": "[encoded data removed]",
      "text/plain": [
       "<Figure size 640x480 with 1 Axes>"
      ]
     },
     "metadata": {},
     "output_type": "display_data"
    }
   ],
   "source": [
    "labels = [emoji.emojize(':grinning_face:'), emoji.emojize(':frowning_face:'), emoji.emojize(':neutral_face:')]\n",
    "sizes = [posavgpercentage1, negavgpercentage1, neuavgpercentage1]\n",
    "colors = ['blue', 'red', 'purple']\n",
    "patches, texts = plt.pie(sizes, colors=colors, startangle=90)\n",
    "plt.legend(patches,labels,loc=\"best\")\n",
    "\n",
    "plt.title(\"df1 results/crashcourse/_O2sg-PGhEg.json\") \n",
    "\n",
    "plt.axis('equal')\n",
    "plt.tight_layout()\n",
    "plt.show()"
   ]
  },
  {
   "cell_type": "code",
   "execution_count": 35,
   "metadata": {},
   "outputs": [
    {
     "data": {
      "image/png": "[encoded data removed]",
      "text/plain": [
       "<Figure size 640x480 with 1 Axes>"
      ]
     },
     "metadata": {},
     "output_type": "display_data"
    }
   ],
   "source": [
    "labels = [emoji.emojize(':smiling_face:'), emoji.emojize(':frowning_face:'), emoji.emojize(':neutral_face:')]\n",
    "sizes = [posavgpercentage2, negavgpercentage2, neuavgpercentage2]\n",
    "colors = ['blue', 'red', 'purple']\n",
    "patches, texts = plt.pie(sizes, colors=colors, startangle=90)\n",
    "plt.legend(patches,labels,loc=\"best\")\n",
    "\n",
    "plt.title(\"df2 results/crashcourse/_tULRch1PRQ.json\") \n",
    "\n",
    "plt.axis('equal')\n",
    "plt.tight_layout()\n",
    "plt.show()"
   ]
  },
  {
   "cell_type": "markdown",
   "metadata": {},
   "source": [
    "# amount of sentiments based on compound scoring of every comment\n",
    "### e.g: 1 positive is of 1 comment"
   ]
  },
  {
   "cell_type": "code",
   "execution_count": 39,
   "metadata": {},
   "outputs": [
    {
     "data": {
      "text/plain": [
       "<AxesSubplot:>"
      ]
     },
     "execution_count": 39,
     "metadata": {},
     "output_type": "execute_result"
    },
    {
     "data": {
      "image/png": "[encoded data removed]",
      "text/plain": [
       "<Figure size 640x480 with 1 Axes>"
      ]
     },
     "metadata": {},
     "output_type": "display_data"
    }
   ],
   "source": [
    "result1 = df1['sentiment'].value_counts()\n",
    "result1.plot(kind='bar', rot=0, color=['purple', 'blue', 'red'])"
   ]
  },
  {
   "cell_type": "code",
   "execution_count": 40,
   "metadata": {},
   "outputs": [
    {
     "data": {
      "text/plain": [
       "<AxesSubplot:>"
      ]
     },
     "execution_count": 40,
     "metadata": {},
     "output_type": "execute_result"
    },
    {
     "data": {
      "image/png": "[encoded data removed]",
      "text/plain": [
       "<Figure size 640x480 with 1 Axes>"
      ]
     },
     "metadata": {},
     "output_type": "display_data"
    }
   ],
   "source": [
    "result2 = df2['sentiment'].value_counts()\n",
    "result2.plot(kind='bar', rot=0, color=['blue', 'purple', 'red'])"
   ]
  },
  {
   "cell_type": "code",
   "execution_count": null,
   "metadata": {},
   "outputs": [],
   "source": [
    "# CREDITS https://github.com/cjhutto/vaderSentiment#about-the-scoring\n",
    "# CITE Hutto, C.J. & Gilbert, E.E. (2014). VADER: A Parsimonious Rule-based Model for Sentiment Analysis of Social Media Text. Eighth International Conference on Weblogs and Social Media (ICWSM-14). Ann Arbor, MI, June 2014."
   ]
  },
  {
   "cell_type": "markdown",
   "metadata": {},
   "source": [
    "# MOST ACCURATE: percentage of sentiments based on compound scoring of every comment"
   ]
  },
  {
   "cell_type": "code",
   "execution_count": 37,
   "metadata": {},
   "outputs": [
    {
     "name": "stdout",
     "output_type": "stream",
     "text": [
      "1375\n"
     ]
    }
   ],
   "source": [
    "totalrows = len(df1['sentiment'])\n",
    "print(totalrows)"
   ]
  },
  {
   "cell_type": "code",
   "execution_count": 41,
   "metadata": {},
   "outputs": [
    {
     "name": "stdout",
     "output_type": "stream",
     "text": [
      "41.67272727272727\n",
      "45.89090909090909\n",
      "12.436363636363636\n",
      "100.0 %\n"
     ]
    },
    {
     "data": {
      "text/plain": [
       "<AxesSubplot:title={'center':'Normalized sentiments of df1 _O2sg-PGhEg.json'}, xlabel='sentiment percentages', ylabel='scale'>"
      ]
     },
     "execution_count": 41,
     "metadata": {},
     "output_type": "execute_result"
    },
    {
     "data": {
      "image/png": "[encoded data removed]",
      "text/plain": [
       "<Figure size 640x480 with 1 Axes>"
      ]
     },
     "metadata": {},
     "output_type": "display_data"
    }
   ],
   "source": [
    "totalpositivesentiment1 = ((df1['sentiment'].value_counts()['positive'])/totalrows)*100\n",
    "print(totalpositivesentiment1)\n",
    "totalneutralsentiment1 = ((df1['sentiment'].value_counts()['neutral'])/totalrows)*100\n",
    "print(totalneutralsentiment1)\n",
    "totalnegativesentiment1 = ((df1['sentiment'].value_counts()['negative'])/totalrows)*100\n",
    "print(totalnegativesentiment1)\n",
    "print(totalnegativesentiment1+totalneutralsentiment1+totalpositivesentiment1, '%')\n",
    "\n",
    "averagedsentiments = pd.Series({\"positive%\": totalpositivesentiment1, \"neutral%\": totalneutralsentiment1, \"negative%\": totalnegativesentiment1})\n",
    "\n",
    "averagedsentiments.plot(kind='bar', rot=0, color=['blue', 'purple', 'red'], title='Normalized sentiments of df1 _O2sg-PGhEg.json', ylim=[0, 100], ylabel='scale', xlabel='sentiment percentages')"
   ]
  },
  {
   "cell_type": "code",
   "execution_count": 29,
   "metadata": {},
   "outputs": [
    {
     "name": "stdout",
     "output_type": "stream",
     "text": [
      "222\n"
     ]
    }
   ],
   "source": [
    "totalrows2 = len(df2['sentiment'])\n",
    "print(totalrows2)\n",
    "#totalrows = df2['sentiment'].value_counts\n",
    "#print(totalrows)\n",
    "\n",
    "#result2 = df2['sentiment'].value_counts()\n",
    "#result2.plot(kind='bar', rot=0, color=['black', 'black', 'black'])\n",
    "\n",
    "\n",
    "\n",
    "\n"
   ]
  },
  {
   "cell_type": "code",
   "execution_count": 42,
   "metadata": {},
   "outputs": [
    {
     "name": "stdout",
     "output_type": "stream",
     "text": [
      "44.14414414414414\n",
      "30.630630630630627\n",
      "25.225225225225223\n",
      "100.0 %\n"
     ]
    },
    {
     "data": {
      "text/plain": [
       "<AxesSubplot:title={'center':'Normalized sentiments of df2 _tULRch1PRQ.json'}, xlabel='sentiment percentages', ylabel='scale'>"
      ]
     },
     "execution_count": 42,
     "metadata": {},
     "output_type": "execute_result"
    },
    {
     "data": {
      "image/png": "[encoded data removed]",
      "text/plain": [
       "<Figure size 640x480 with 1 Axes>"
      ]
     },
     "metadata": {},
     "output_type": "display_data"
    }
   ],
   "source": [
    "from turtle import title\n",
    "\n",
    "\n",
    "totalpositivesentiment2 = ((df2['sentiment'].value_counts()['positive'])/totalrows2)*100\n",
    "print(totalpositivesentiment2)\n",
    "totalneutralsentiment2 = ((df2['sentiment'].value_counts()['neutral'])/totalrows2)*100\n",
    "print(totalneutralsentiment2)\n",
    "totalnegativesentiment2 = ((df2['sentiment'].value_counts()['negative'])/totalrows2)*100\n",
    "print(totalnegativesentiment2)\n",
    "print(totalnegativesentiment2+totalneutralsentiment2+totalpositivesentiment2, '%')\n",
    "\n",
    "averagedsentiments = pd.Series({\"positive%\": totalpositivesentiment2, \"neutral%\": totalneutralsentiment2, \"negative%\": totalnegativesentiment2})\n",
    "\n",
    "averagedsentiments.plot(kind='bar', rot=0, color=['blue', 'purple', 'red'], title='Normalized sentiments of df2 _tULRch1PRQ.json', ylim=[0, 100], ylabel='scale', xlabel='sentiment percentages')\n"
   ]
  },
  {
   "cell_type": "code",
   "execution_count": 48,
   "metadata": {},
   "outputs": [
    {
     "data": {
      "text/plain": [
       "<AxesSubplot:title={'center':'Normalized sentiments of df2 _tULRch1PRQ.json'}, xlabel='sentiment percentages', ylabel='scale'>"
      ]
     },
     "execution_count": 48,
     "metadata": {},
     "output_type": "execute_result"
    },
    {
     "data": {
      "image/png": "[encoded data removed]",
      "text/plain": [
       "<Figure size 640x480 with 1 Axes>"
      ]
     },
     "metadata": {},
     "output_type": "display_data"
    }
   ],
   "source": [
    "import emoji\n",
    "\n",
    "averagedsentiments = pd.Series({emoji.emojize(':smiling_face:'): totalpositivesentiment2, emoji.emojize(':neutral_face:'): totalneutralsentiment2, emoji.emojize(':frowning_face:'): totalnegativesentiment2})\n",
    "\n",
    "averagedsentiments.plot(kind='bar', rot=0, color=['blue', 'purple', 'red'], title='Normalized sentiments of df2 _tULRch1PRQ.json', ylim=[0, 100], ylabel='scale', xlabel='sentiment percentages')"
   ]
  },
  {
   "cell_type": "code",
   "execution_count": 47,
   "metadata": {},
   "outputs": [
    {
     "name": "stdout",
     "output_type": "stream",
     "text": [
      "df2 video is overall highly positively acclaimed\n",
      "recommend https://www.youtube.com/watch?v=_tULRch1PRQ\n"
     ]
    }
   ],
   "source": [
    "video_id = '_tULRch1PRQ'\n",
    "\n",
    "if totalpositivesentiment2 > totalnegativesentiment2 and totalneutralsentiment2:\n",
    "    print('df2 video is overall highly positively acclaimed')\n",
    "    print(f'recommend https://www.youtube.com/watch?v={video_id}')"
   ]
  },
  {
   "cell_type": "markdown",
   "metadata": {},
   "source": [
    "# comment predictions and posts over time"
   ]
  },
  {
   "cell_type": "code",
   "execution_count": 12,
   "metadata": {},
   "outputs": [
    {
     "data": {
      "text/plain": [
       "0       2022-07-14T09:38:00Z\n",
       "1       2020-06-18T17:26:03Z\n",
       "2       2020-06-17T17:46:52Z\n",
       "3       2020-06-10T12:41:45Z\n",
       "4       2020-06-06T00:10:48Z\n",
       "                ...         \n",
       "1370    2015-11-05T22:26:29Z\n",
       "1371    2015-11-05T22:24:14Z\n",
       "1372    2015-11-05T22:23:58Z\n",
       "1373    2015-11-05T22:23:57Z\n",
       "1374    2015-11-05T22:23:19Z\n",
       "Name: comment_date, Length: 1375, dtype: object"
      ]
     },
     "execution_count": 12,
     "metadata": {},
     "output_type": "execute_result"
    }
   ],
   "source": [
    "df1['comment_date']"
   ]
  },
  {
   "cell_type": "code",
   "execution_count": 18,
   "metadata": {},
   "outputs": [
    {
     "data": {
      "text/html": [
       "<div>\n",
       "<style scoped>\n",
       "    .dataframe tbody tr th:only-of-type {\n",
       "        vertical-align: middle;\n",
       "    }\n",
       "\n",
       "    .dataframe tbody tr th {\n",
       "        vertical-align: top;\n",
       "    }\n",
       "\n",
       "    .dataframe thead th {\n",
       "        text-align: right;\n",
       "    }\n",
       "</style>\n",
       "<table border=\"1\" class=\"dataframe\">\n",
       "  <thead>\n",
       "    <tr style=\"text-align: right;\">\n",
       "      <th></th>\n",
       "      <th>comment_by</th>\n",
       "      <th>comment_text</th>\n",
       "      <th>comment_date</th>\n",
       "      <th>likes_count</th>\n",
       "      <th>negative</th>\n",
       "      <th>neutral</th>\n",
       "      <th>positive</th>\n",
       "      <th>compound</th>\n",
       "      <th>sentiment</th>\n",
       "      <th>date</th>\n",
       "      <th>time</th>\n",
       "    </tr>\n",
       "  </thead>\n",
       "  <tbody>\n",
       "    <tr>\n",
       "      <th>1370</th>\n",
       "      <td>Somillian</td>\n",
       "      <td>Under 301 club.</td>\n",
       "      <td>2015-11-05T22:26:29Z</td>\n",
       "      <td>2</td>\n",
       "      <td>0.0</td>\n",
       "      <td>1.000</td>\n",
       "      <td>0.000</td>\n",
       "      <td>0.0000</td>\n",
       "      <td>neutral</td>\n",
       "      <td>2015-11-05</td>\n",
       "      <td>22:26:29</td>\n",
       "    </tr>\n",
       "    <tr>\n",
       "      <th>1371</th>\n",
       "      <td>Mythri</td>\n",
       "      <td>First Like LOLOL</td>\n",
       "      <td>2015-11-05T22:24:14Z</td>\n",
       "      <td>2</td>\n",
       "      <td>0.0</td>\n",
       "      <td>0.444</td>\n",
       "      <td>0.556</td>\n",
       "      <td>0.3612</td>\n",
       "      <td>positive</td>\n",
       "      <td>2015-11-05</td>\n",
       "      <td>22:24:14</td>\n",
       "    </tr>\n",
       "    <tr>\n",
       "      <th>1372</th>\n",
       "      <td>Get Fixed</td>\n",
       "      <td>second</td>\n",
       "      <td>2015-11-05T22:23:58Z</td>\n",
       "      <td>0</td>\n",
       "      <td>0.0</td>\n",
       "      <td>1.000</td>\n",
       "      <td>0.000</td>\n",
       "      <td>0.0000</td>\n",
       "      <td>neutral</td>\n",
       "      <td>2015-11-05</td>\n",
       "      <td>22:23:58</td>\n",
       "    </tr>\n",
       "    <tr>\n",
       "      <th>1373</th>\n",
       "      <td>ZeroKelvin</td>\n",
       "      <td>Second!</td>\n",
       "      <td>2015-11-05T22:23:57Z</td>\n",
       "      <td>0</td>\n",
       "      <td>0.0</td>\n",
       "      <td>1.000</td>\n",
       "      <td>0.000</td>\n",
       "      <td>0.0000</td>\n",
       "      <td>neutral</td>\n",
       "      <td>2015-11-05</td>\n",
       "      <td>22:23:57</td>\n",
       "    </tr>\n",
       "    <tr>\n",
       "      <th>1374</th>\n",
       "      <td>BDogg Volz</td>\n",
       "      <td>F1RST!</td>\n",
       "      <td>2015-11-05T22:23:19Z</td>\n",
       "      <td>0</td>\n",
       "      <td>0.0</td>\n",
       "      <td>1.000</td>\n",
       "      <td>0.000</td>\n",
       "      <td>0.0000</td>\n",
       "      <td>neutral</td>\n",
       "      <td>2015-11-05</td>\n",
       "      <td>22:23:19</td>\n",
       "    </tr>\n",
       "  </tbody>\n",
       "</table>\n",
       "</div>"
      ],
      "text/plain": [
       "      comment_by      comment_text          comment_date  likes_count  \\\n",
       "1370   Somillian   Under 301 club.  2015-11-05T22:26:29Z            2   \n",
       "1371      Mythri  First Like LOLOL  2015-11-05T22:24:14Z            2   \n",
       "1372   Get Fixed            second  2015-11-05T22:23:58Z            0   \n",
       "1373  ZeroKelvin           Second!  2015-11-05T22:23:57Z            0   \n",
       "1374  BDogg Volz            F1RST!  2015-11-05T22:23:19Z            0   \n",
       "\n",
       "      negative  neutral  positive  compound sentiment        date      time  \n",
       "1370       0.0    1.000     0.000    0.0000   neutral  2015-11-05  22:26:29  \n",
       "1371       0.0    0.444     0.556    0.3612  positive  2015-11-05  22:24:14  \n",
       "1372       0.0    1.000     0.000    0.0000   neutral  2015-11-05  22:23:58  \n",
       "1373       0.0    1.000     0.000    0.0000   neutral  2015-11-05  22:23:57  \n",
       "1374       0.0    1.000     0.000    0.0000   neutral  2015-11-05  22:23:19  "
      ]
     },
     "execution_count": 18,
     "metadata": {},
     "output_type": "execute_result"
    }
   ],
   "source": [
    "# import re\n",
    "\n",
    "# #duration info from YouTube API does not come in the hour:minute:second format so...\n",
    "# #compile a regular expression using the imported re python library module\n",
    "# hoursformat = re.compile(r'(\\d+)H')\n",
    "# minutesformat = re.compile(r'(\\d+)M')\n",
    "# secondsformat = re.compile(r'(\\d+)S')\n",
    "\n",
    "# total_seconds = 0\n",
    "\n",
    "# #table1.py continues on formatting duration\n",
    "# #then analyse here\n",
    "\n",
    "# for row in range(df.shape[0]):\n",
    "#     datesandtimes = df.loc[row, 'Date']\n",
    "#     datesandtimes = datesandtimes.split()\n",
    "#     date = datesandtimes[0]\n",
    "#     time = datesandtimes[len(datesandtimes)-1]\n",
    "#     #print(f'{date} {time}')\n",
    "\n",
    "# df['date'] = date\n",
    "# df['time'] = time\n",
    "\n",
    "# df.drop(columns=['date', 'time'], inplace=True)\n",
    "# #you can also drop specific row(s)\n",
    "\n",
    "# # df.drop(index=0) only one row dropped\n",
    "\n",
    "# # df.drop(index=df[df['last_name'] == 'Rogers'].index) rows with Rogers in last_name column dropped\n",
    "# # aka\n",
    "# # filt = df['last_name'] == 'Rogers'\n",
    "# # df.drop(index=df[filt].index)\n",
    "\n",
    "# #-------------------------------------------------------------------------------------------------\n",
    "# #below is a more efficient and easier way (without for loop)\n",
    "\n",
    "# type(df['Date'][0]) #'2018-05-17 23:26:08' is a string so could use split method on it\n",
    "\n",
    "# df[['date', 'time']] = df['Date'].str.split(' ', expand=True)\n",
    "\n",
    "# df\n",
    "\n",
    "dates1 = []\n",
    "times1 = []\n",
    "\n",
    "for dateandtime in df1['comment_date']:\n",
    "    dateandtime = dateandtime.replace('T', ' ')\n",
    "    dateandtime = dateandtime.replace('Z', '')\n",
    "    \n",
    "    dateandtime = dateandtime.split()\n",
    "    date = dateandtime[0]\n",
    "    timing = dateandtime[1]\n",
    "    \n",
    "    dates1.append(date)\n",
    "    times1.append(timing)\n",
    "\n",
    "df1['date'] = dates1\n",
    "df1['time'] = times1\n",
    "\n",
    "# Sort the rows of dataframe by 'date' column\n",
    "sorted_df1 = df1.sort_values(by = 'date')\n",
    "\n",
    "df1.tail()\n"
   ]
  },
  {
   "cell_type": "code",
   "execution_count": 19,
   "metadata": {},
   "outputs": [
    {
     "data": {
      "text/html": [
       "<div>\n",
       "<style scoped>\n",
       "    .dataframe tbody tr th:only-of-type {\n",
       "        vertical-align: middle;\n",
       "    }\n",
       "\n",
       "    .dataframe tbody tr th {\n",
       "        vertical-align: top;\n",
       "    }\n",
       "\n",
       "    .dataframe thead th {\n",
       "        text-align: right;\n",
       "    }\n",
       "</style>\n",
       "<table border=\"1\" class=\"dataframe\">\n",
       "  <thead>\n",
       "    <tr style=\"text-align: right;\">\n",
       "      <th></th>\n",
       "      <th>comment_by</th>\n",
       "      <th>comment_text</th>\n",
       "      <th>comment_date</th>\n",
       "      <th>likes_count</th>\n",
       "      <th>negative</th>\n",
       "      <th>neutral</th>\n",
       "      <th>positive</th>\n",
       "      <th>compound</th>\n",
       "      <th>sentiment</th>\n",
       "      <th>date</th>\n",
       "      <th>time</th>\n",
       "    </tr>\n",
       "  </thead>\n",
       "  <tbody>\n",
       "    <tr>\n",
       "      <th>1374</th>\n",
       "      <td>BDogg Volz</td>\n",
       "      <td>F1RST!</td>\n",
       "      <td>2015-11-05T22:23:19Z</td>\n",
       "      <td>0</td>\n",
       "      <td>0.000</td>\n",
       "      <td>1.000</td>\n",
       "      <td>0.000</td>\n",
       "      <td>0.0000</td>\n",
       "      <td>neutral</td>\n",
       "      <td>2015-11-05</td>\n",
       "      <td>22:23:19</td>\n",
       "    </tr>\n",
       "    <tr>\n",
       "      <th>1286</th>\n",
       "      <td>Noel Garayúa</td>\n",
       "      <td>I like his be attitude, is more dramatic, more...</td>\n",
       "      <td>2015-11-05T23:22:53Z</td>\n",
       "      <td>0</td>\n",
       "      <td>0.000</td>\n",
       "      <td>0.645</td>\n",
       "      <td>0.355</td>\n",
       "      <td>0.8276</td>\n",
       "      <td>positive</td>\n",
       "      <td>2015-11-05</td>\n",
       "      <td>23:22:53</td>\n",
       "    </tr>\n",
       "    <tr>\n",
       "      <th>1287</th>\n",
       "      <td>Jon Sleeper</td>\n",
       "      <td>Carl Sagan had it right when he said that we a...</td>\n",
       "      <td>2015-11-05T23:22:40Z</td>\n",
       "      <td>0</td>\n",
       "      <td>0.000</td>\n",
       "      <td>1.000</td>\n",
       "      <td>0.000</td>\n",
       "      <td>0.0000</td>\n",
       "      <td>neutral</td>\n",
       "      <td>2015-11-05</td>\n",
       "      <td>23:22:40</td>\n",
       "    </tr>\n",
       "    <tr>\n",
       "      <th>1288</th>\n",
       "      <td>TheGinginator14</td>\n",
       "      <td>So are you saying... That the local group is j...</td>\n",
       "      <td>2015-11-05T23:21:36Z</td>\n",
       "      <td>0</td>\n",
       "      <td>0.000</td>\n",
       "      <td>1.000</td>\n",
       "      <td>0.000</td>\n",
       "      <td>0.0000</td>\n",
       "      <td>neutral</td>\n",
       "      <td>2015-11-05</td>\n",
       "      <td>23:21:36</td>\n",
       "    </tr>\n",
       "    <tr>\n",
       "      <th>1289</th>\n",
       "      <td>Brett Dupree</td>\n",
       "      <td>Alright, my brain hurts</td>\n",
       "      <td>2015-11-05T23:20:52Z</td>\n",
       "      <td>0</td>\n",
       "      <td>0.437</td>\n",
       "      <td>0.282</td>\n",
       "      <td>0.282</td>\n",
       "      <td>-0.2732</td>\n",
       "      <td>negative</td>\n",
       "      <td>2015-11-05</td>\n",
       "      <td>23:20:52</td>\n",
       "    </tr>\n",
       "  </tbody>\n",
       "</table>\n",
       "</div>"
      ],
      "text/plain": [
       "           comment_by                                       comment_text  \\\n",
       "1374       BDogg Volz                                             F1RST!   \n",
       "1286     Noel Garayúa  I like his be attitude, is more dramatic, more...   \n",
       "1287      Jon Sleeper  Carl Sagan had it right when he said that we a...   \n",
       "1288  TheGinginator14  So are you saying... That the local group is j...   \n",
       "1289     Brett Dupree                            Alright, my brain hurts   \n",
       "\n",
       "              comment_date  likes_count  negative  neutral  positive  \\\n",
       "1374  2015-11-05T22:23:19Z            0     0.000    1.000     0.000   \n",
       "1286  2015-11-05T23:22:53Z            0     0.000    0.645     0.355   \n",
       "1287  2015-11-05T23:22:40Z            0     0.000    1.000     0.000   \n",
       "1288  2015-11-05T23:21:36Z            0     0.000    1.000     0.000   \n",
       "1289  2015-11-05T23:20:52Z            0     0.437    0.282     0.282   \n",
       "\n",
       "      compound sentiment        date      time  \n",
       "1374    0.0000   neutral  2015-11-05  22:23:19  \n",
       "1286    0.8276  positive  2015-11-05  23:22:53  \n",
       "1287    0.0000   neutral  2015-11-05  23:22:40  \n",
       "1288    0.0000   neutral  2015-11-05  23:21:36  \n",
       "1289   -0.2732  negative  2015-11-05  23:20:52  "
      ]
     },
     "execution_count": 19,
     "metadata": {},
     "output_type": "execute_result"
    }
   ],
   "source": [
    "sorted_df1.head()"
   ]
  },
  {
   "cell_type": "code",
   "execution_count": 20,
   "metadata": {},
   "outputs": [
    {
     "data": {
      "text/plain": [
       "<AxesSubplot:>"
      ]
     },
     "execution_count": 20,
     "metadata": {},
     "output_type": "execute_result"
    },
    {
     "data": {
      "image/png": "[encoded data removed]",
      "text/plain": [
       "<Figure size 640x480 with 1 Axes>"
      ]
     },
     "metadata": {},
     "output_type": "display_data"
    }
   ],
   "source": [
    "predictionsovertime1 = sorted_df1['date'].value_counts()\n",
    "predictionsovertime1.plot(kind='line')"
   ]
  },
  {
   "cell_type": "code",
   "execution_count": 21,
   "metadata": {},
   "outputs": [
    {
     "data": {
      "text/plain": [
       "2015-11-06    393\n",
       "2015-11-05    119\n",
       "2015-11-07     72\n",
       "2015-11-09     40\n",
       "2015-11-08     26\n",
       "             ... \n",
       "2017-07-17      1\n",
       "2017-07-12      1\n",
       "2017-07-05      1\n",
       "2017-07-04      1\n",
       "2022-07-14      1\n",
       "Name: date, Length: 504, dtype: int64"
      ]
     },
     "execution_count": 21,
     "metadata": {},
     "output_type": "execute_result"
    }
   ],
   "source": [
    "sorted_df1['date'].value_counts()"
   ]
  },
  {
   "cell_type": "code",
   "execution_count": 22,
   "metadata": {},
   "outputs": [
    {
     "data": {
      "text/html": [
       "<div>\n",
       "<style scoped>\n",
       "    .dataframe tbody tr th:only-of-type {\n",
       "        vertical-align: middle;\n",
       "    }\n",
       "\n",
       "    .dataframe tbody tr th {\n",
       "        vertical-align: top;\n",
       "    }\n",
       "\n",
       "    .dataframe thead th {\n",
       "        text-align: right;\n",
       "    }\n",
       "</style>\n",
       "<table border=\"1\" class=\"dataframe\">\n",
       "  <thead>\n",
       "    <tr style=\"text-align: right;\">\n",
       "      <th></th>\n",
       "      <th>comment_by</th>\n",
       "      <th>comment_text</th>\n",
       "      <th>comment_date</th>\n",
       "      <th>likes_count</th>\n",
       "      <th>negative</th>\n",
       "      <th>neutral</th>\n",
       "      <th>positive</th>\n",
       "      <th>compound</th>\n",
       "      <th>sentiment</th>\n",
       "      <th>date</th>\n",
       "      <th>time</th>\n",
       "    </tr>\n",
       "  </thead>\n",
       "  <tbody>\n",
       "    <tr>\n",
       "      <th>217</th>\n",
       "      <td>Christopher Caldwell</td>\n",
       "      <td>Fiscal Falcon</td>\n",
       "      <td>2016-02-13T01:41:08Z</td>\n",
       "      <td>0</td>\n",
       "      <td>0.0</td>\n",
       "      <td>1.0</td>\n",
       "      <td>0.0</td>\n",
       "      <td>0.000</td>\n",
       "      <td>neutral</td>\n",
       "      <td>2016-02-13</td>\n",
       "      <td>01:41:08</td>\n",
       "    </tr>\n",
       "    <tr>\n",
       "      <th>218</th>\n",
       "      <td>Port Ewan</td>\n",
       "      <td>No</td>\n",
       "      <td>2016-02-13T01:40:44Z</td>\n",
       "      <td>0</td>\n",
       "      <td>1.0</td>\n",
       "      <td>0.0</td>\n",
       "      <td>0.0</td>\n",
       "      <td>-0.296</td>\n",
       "      <td>negative</td>\n",
       "      <td>2016-02-13</td>\n",
       "      <td>01:40:44</td>\n",
       "    </tr>\n",
       "    <tr>\n",
       "      <th>219</th>\n",
       "      <td>Shah Al-Mamun</td>\n",
       "      <td>3rd</td>\n",
       "      <td>2016-02-13T01:40:26Z</td>\n",
       "      <td>0</td>\n",
       "      <td>0.0</td>\n",
       "      <td>1.0</td>\n",
       "      <td>0.0</td>\n",
       "      <td>0.000</td>\n",
       "      <td>neutral</td>\n",
       "      <td>2016-02-13</td>\n",
       "      <td>01:40:26</td>\n",
       "    </tr>\n",
       "    <tr>\n",
       "      <th>220</th>\n",
       "      <td>Shack_Em</td>\n",
       "      <td>Second</td>\n",
       "      <td>2016-02-13T01:39:40Z</td>\n",
       "      <td>0</td>\n",
       "      <td>0.0</td>\n",
       "      <td>1.0</td>\n",
       "      <td>0.0</td>\n",
       "      <td>0.000</td>\n",
       "      <td>neutral</td>\n",
       "      <td>2016-02-13</td>\n",
       "      <td>01:39:40</td>\n",
       "    </tr>\n",
       "    <tr>\n",
       "      <th>221</th>\n",
       "      <td>allthewaystartrek</td>\n",
       "      <td>First</td>\n",
       "      <td>2016-02-13T01:38:28Z</td>\n",
       "      <td>3</td>\n",
       "      <td>0.0</td>\n",
       "      <td>1.0</td>\n",
       "      <td>0.0</td>\n",
       "      <td>0.000</td>\n",
       "      <td>neutral</td>\n",
       "      <td>2016-02-13</td>\n",
       "      <td>01:38:28</td>\n",
       "    </tr>\n",
       "  </tbody>\n",
       "</table>\n",
       "</div>"
      ],
      "text/plain": [
       "               comment_by   comment_text          comment_date  likes_count  \\\n",
       "217  Christopher Caldwell  Fiscal Falcon  2016-02-13T01:41:08Z            0   \n",
       "218             Port Ewan             No  2016-02-13T01:40:44Z            0   \n",
       "219         Shah Al-Mamun            3rd  2016-02-13T01:40:26Z            0   \n",
       "220              Shack_Em         Second  2016-02-13T01:39:40Z            0   \n",
       "221     allthewaystartrek          First  2016-02-13T01:38:28Z            3   \n",
       "\n",
       "     negative  neutral  positive  compound sentiment        date      time  \n",
       "217       0.0      1.0       0.0     0.000   neutral  2016-02-13  01:41:08  \n",
       "218       1.0      0.0       0.0    -0.296  negative  2016-02-13  01:40:44  \n",
       "219       0.0      1.0       0.0     0.000   neutral  2016-02-13  01:40:26  \n",
       "220       0.0      1.0       0.0     0.000   neutral  2016-02-13  01:39:40  \n",
       "221       0.0      1.0       0.0     0.000   neutral  2016-02-13  01:38:28  "
      ]
     },
     "execution_count": 22,
     "metadata": {},
     "output_type": "execute_result"
    }
   ],
   "source": [
    "dates2 = []\n",
    "times2 = []\n",
    "\n",
    "for dateandtime in df2['comment_date']:\n",
    "    dateandtime = dateandtime.replace('T', ' ')\n",
    "    dateandtime = dateandtime.replace('Z', '')\n",
    "    \n",
    "    dateandtime = dateandtime.split()\n",
    "    date = dateandtime[0]\n",
    "    timing = dateandtime[1]\n",
    "    \n",
    "    dates2.append(date)\n",
    "    times2.append(timing)\n",
    "\n",
    "df2['date'] = dates2\n",
    "df2['time'] = times2\n",
    "\n",
    "# Sort the rows of dataframe by 'date' column\n",
    "sorted_df2 = df2.sort_values(by = 'date')\n",
    "\n",
    "df2.tail()"
   ]
  },
  {
   "cell_type": "code",
   "execution_count": 23,
   "metadata": {},
   "outputs": [
    {
     "data": {
      "text/html": [
       "<div>\n",
       "<style scoped>\n",
       "    .dataframe tbody tr th:only-of-type {\n",
       "        vertical-align: middle;\n",
       "    }\n",
       "\n",
       "    .dataframe tbody tr th {\n",
       "        vertical-align: top;\n",
       "    }\n",
       "\n",
       "    .dataframe thead th {\n",
       "        text-align: right;\n",
       "    }\n",
       "</style>\n",
       "<table border=\"1\" class=\"dataframe\">\n",
       "  <thead>\n",
       "    <tr style=\"text-align: right;\">\n",
       "      <th></th>\n",
       "      <th>comment_by</th>\n",
       "      <th>comment_text</th>\n",
       "      <th>comment_date</th>\n",
       "      <th>likes_count</th>\n",
       "      <th>negative</th>\n",
       "      <th>neutral</th>\n",
       "      <th>positive</th>\n",
       "      <th>compound</th>\n",
       "      <th>sentiment</th>\n",
       "      <th>date</th>\n",
       "      <th>time</th>\n",
       "    </tr>\n",
       "  </thead>\n",
       "  <tbody>\n",
       "    <tr>\n",
       "      <th>4</th>\n",
       "      <td>Timothy Little</td>\n",
       "      <td>The best way to rob a bank is to own one</td>\n",
       "      <td>2020-04-09T07:37:44Z</td>\n",
       "      <td>1</td>\n",
       "      <td>0.214</td>\n",
       "      <td>0.536</td>\n",
       "      <td>0.250</td>\n",
       "      <td>0.1531</td>\n",
       "      <td>positive</td>\n",
       "      <td>2020-04-09</td>\n",
       "      <td>07:37:44</td>\n",
       "    </tr>\n",
       "    <tr>\n",
       "      <th>3</th>\n",
       "      <td>Eva Lynn</td>\n",
       "      <td>This mans hilarious</td>\n",
       "      <td>2020-04-28T09:52:08Z</td>\n",
       "      <td>0</td>\n",
       "      <td>0.000</td>\n",
       "      <td>0.426</td>\n",
       "      <td>0.574</td>\n",
       "      <td>0.4019</td>\n",
       "      <td>positive</td>\n",
       "      <td>2020-04-28</td>\n",
       "      <td>09:52:08</td>\n",
       "    </tr>\n",
       "    <tr>\n",
       "      <th>2</th>\n",
       "      <td>Sedat Ayyıldız</td>\n",
       "      <td>I like your academic and scientific jokes :))</td>\n",
       "      <td>2020-05-06T10:26:24Z</td>\n",
       "      <td>1</td>\n",
       "      <td>0.000</td>\n",
       "      <td>0.571</td>\n",
       "      <td>0.429</td>\n",
       "      <td>0.5423</td>\n",
       "      <td>positive</td>\n",
       "      <td>2020-05-06</td>\n",
       "      <td>10:26:24</td>\n",
       "    </tr>\n",
       "    <tr>\n",
       "      <th>1</th>\n",
       "      <td>F Wily</td>\n",
       "      <td>Talk faster, you are too slow. I only have a 3...</td>\n",
       "      <td>2020-05-16T14:55:28Z</td>\n",
       "      <td>4</td>\n",
       "      <td>0.000</td>\n",
       "      <td>1.000</td>\n",
       "      <td>0.000</td>\n",
       "      <td>0.0000</td>\n",
       "      <td>neutral</td>\n",
       "      <td>2020-05-16</td>\n",
       "      <td>14:55:28</td>\n",
       "    </tr>\n",
       "    <tr>\n",
       "      <th>0</th>\n",
       "      <td>Rich Invents</td>\n",
       "      <td>Excellent video, very informative.  ONE sugges...</td>\n",
       "      <td>2022-08-15T14:58:30Z</td>\n",
       "      <td>0</td>\n",
       "      <td>0.027</td>\n",
       "      <td>0.764</td>\n",
       "      <td>0.209</td>\n",
       "      <td>0.8687</td>\n",
       "      <td>positive</td>\n",
       "      <td>2022-08-15</td>\n",
       "      <td>14:58:30</td>\n",
       "    </tr>\n",
       "  </tbody>\n",
       "</table>\n",
       "</div>"
      ],
      "text/plain": [
       "       comment_by                                       comment_text  \\\n",
       "4  Timothy Little           The best way to rob a bank is to own one   \n",
       "3        Eva Lynn                                This mans hilarious   \n",
       "2  Sedat Ayyıldız      I like your academic and scientific jokes :))   \n",
       "1          F Wily  Talk faster, you are too slow. I only have a 3...   \n",
       "0    Rich Invents  Excellent video, very informative.  ONE sugges...   \n",
       "\n",
       "           comment_date  likes_count  negative  neutral  positive  compound  \\\n",
       "4  2020-04-09T07:37:44Z            1     0.214    0.536     0.250    0.1531   \n",
       "3  2020-04-28T09:52:08Z            0     0.000    0.426     0.574    0.4019   \n",
       "2  2020-05-06T10:26:24Z            1     0.000    0.571     0.429    0.5423   \n",
       "1  2020-05-16T14:55:28Z            4     0.000    1.000     0.000    0.0000   \n",
       "0  2022-08-15T14:58:30Z            0     0.027    0.764     0.209    0.8687   \n",
       "\n",
       "  sentiment        date      time  \n",
       "4  positive  2020-04-09  07:37:44  \n",
       "3  positive  2020-04-28  09:52:08  \n",
       "2  positive  2020-05-06  10:26:24  \n",
       "1   neutral  2020-05-16  14:55:28  \n",
       "0  positive  2022-08-15  14:58:30  "
      ]
     },
     "execution_count": 23,
     "metadata": {},
     "output_type": "execute_result"
    }
   ],
   "source": [
    "sorted_df2.tail()"
   ]
  },
  {
   "cell_type": "code",
   "execution_count": 24,
   "metadata": {},
   "outputs": [
    {
     "data": {
      "text/plain": [
       "<AxesSubplot:>"
      ]
     },
     "execution_count": 24,
     "metadata": {},
     "output_type": "execute_result"
    },
    {
     "data": {
      "image/png": "[encoded data removed]",
      "text/plain": [
       "<Figure size 640x480 with 1 Axes>"
      ]
     },
     "metadata": {},
     "output_type": "display_data"
    }
   ],
   "source": [
    "predictionsovertime2 = sorted_df2['date'].value_counts()\n",
    "predictionsovertime2.plot(kind='line')"
   ]
  },
  {
   "cell_type": "code",
   "execution_count": 25,
   "metadata": {},
   "outputs": [
    {
     "data": {
      "text/plain": [
       "2016-02-13    87\n",
       "2016-02-14     9\n",
       "2016-02-15     8\n",
       "2016-02-16     6\n",
       "2016-02-20     4\n",
       "              ..\n",
       "2017-03-02     1\n",
       "2017-02-03     1\n",
       "2017-01-09     1\n",
       "2016-12-13     1\n",
       "2022-08-15     1\n",
       "Name: date, Length: 91, dtype: int64"
      ]
     },
     "execution_count": 25,
     "metadata": {},
     "output_type": "execute_result"
    }
   ],
   "source": [
    "sorted_df2['date'].value_counts()\n"
   ]
  },
  {
   "cell_type": "code",
   "execution_count": 27,
   "metadata": {},
   "outputs": [
    {
     "data": {
      "image/png": "[encoded data removed]",
      "text/plain": [
       "<Figure size 640x480 with 1 Axes>"
      ]
     },
     "metadata": {},
     "output_type": "display_data"
    }
   ],
   "source": [
    "#plt.plot(dates1, total_comments)\n",
    "##Adding description of the plotting\n",
    "#plt.title(\"df1 results/crashcourse/_O2sg-PGhEg.json\")\n",
    "#plt.xlabel(\"Dates\")\n",
    "#plt.xlabel(list(dates1))\n",
    "#plt.ylabel(\"Number of comments\")\n",
    "#plt.show()\n",
    "\n",
    "\n",
    "\n",
    "\n",
    "#What I expected the predictions over time would look like...\n",
    "\n",
    "dates = ['2020-01-10', '2021-12-21', '2022-02-02', '2022-08-25']\n",
    "total_comments = [5, 10, 3, 50]\n",
    "plt.plot(dates, total_comments)\n",
    "plt.title(\"line chart of number of comments over dates\")\n",
    "#plt.xlabel(\"Dates\")\n",
    "#plt.xlabel(list(dates1))\n",
    "#plt.ylabel(\"Number of comments\")\n",
    "plt.show()"
   ]
  },
  {
   "cell_type": "code",
   "execution_count": 21,
   "metadata": {},
   "outputs": [
    {
     "data": {
      "text/plain": [
       "'2022-07-14'"
      ]
     },
     "execution_count": 21,
     "metadata": {},
     "output_type": "execute_result"
    }
   ],
   "source": [
    "sorted_df1['date'][0]"
   ]
  },
  {
   "cell_type": "code",
   "execution_count": 23,
   "metadata": {},
   "outputs": [
    {
     "data": {
      "text/plain": [
       "1374    2015-11-05\n",
       "1286    2015-11-05\n",
       "1287    2015-11-05\n",
       "1288    2015-11-05\n",
       "1289    2015-11-05\n",
       "           ...    \n",
       "4       2020-06-06\n",
       "3       2020-06-10\n",
       "2       2020-06-17\n",
       "1       2020-06-18\n",
       "0       2022-07-14\n",
       "Name: date, Length: 1375, dtype: object"
      ]
     },
     "execution_count": 23,
     "metadata": {},
     "output_type": "execute_result"
    }
   ],
   "source": [
    "sorted_df1['date']"
   ]
  },
  {
   "cell_type": "code",
   "execution_count": null,
   "metadata": {},
   "outputs": [],
   "source": [
    "##A simple illustration\n",
    "#df1 = pd.read_json('results/crashcourse/_O2sg-PGhEg.json')\n",
    "#dates1 = df1['date']\n",
    "#dates1 = dates1.sort_values(ascending=True)\n",
    "\n",
    "# dates1 = sorted_df1['date']\n",
    "# #print(dates1)\n",
    "\n",
    "# #comments = df1['comment_text']\n",
    "\n",
    "# number_of_comments_per_day = 0\n",
    "# total_comments = []\n",
    "# count = len(dates1)-1\n",
    "\n",
    "# for date in dates1:\n",
    "    \n",
    "#     if date == sorted_df1['date'][count]:\n",
    "#         #number_of_comments_per_day += 1\n",
    "#         print('match')\n",
    "\n",
    "#     if date != sorted_df1['date'][count]:\n",
    "#         #number_of_comments_per_day = 0\n",
    "#         print('not')\n",
    "    \n",
    "#     count-=1\n",
    "#     #total_comments.append([number_of_comments_per_day])\n",
    "\n",
    "# #print(total_comments)\n",
    "    \n",
    "    #previously...\n",
    "    #e.g: 2015-11-05 | +1 comment | 1 comment total\n",
    "    #     2015-11-05 | +1 comment | 2 comments total\n",
    "\n",
    "    #how to make date column, in df1, unique and delete repeated same dates?\n",
    "    #e.g: 2015-11-05 | 2 comments total\n",
    "#dates1 = dates1.drop_duplicates()\n",
    "#dates1 = list(dates1)\n",
    "\n",
    "#print('Number of comments = '+str(len(total_comments)))\n",
    "#print('Number of non duplicate dates = '+str(len(dates1)))\n",
    "\n"
   ]
  }
 ],
 "metadata": {
  "kernelspec": {
   "display_name": "Python 3.9.13 ('.venv': venv)",
   "language": "python",
   "name": "python3"
  },
  "language_info": {
   "codemirror_mode": {
    "name": "ipython",
    "version": 3
   },
   "file_extension": ".py",
   "mimetype": "text/x-python",
   "name": "python",
   "nbconvert_exporter": "python",
   "pygments_lexer": "ipython3",
   "version": "3.9.13"
  },
  "orig_nbformat": 4,
  "vscode": {
   "interpreter": {
    "hash": "b52c38fc9cc1debdf8d76a081e411b75b266f8c9c62e44f6df99918effc85be8"
   }
  }
 },
 "nbformat": 4,
 "nbformat_minor": 2
}
